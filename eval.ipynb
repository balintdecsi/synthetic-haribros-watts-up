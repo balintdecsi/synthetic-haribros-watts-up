{
 "cells": [
  {
   "cell_type": "code",
   "execution_count": 2,
   "metadata": {},
   "outputs": [],
   "source": [
    "from pathlib import Path\n",
    "import pandas as pd\n",
    "from sklearn.model_selection import train_test_split\n",
    "import numpy as np\n",
    "import xgboost as xgb\n",
    "from sklearn.metrics import accuracy_score\n",
    "from plot import create_plots\n"
   ]
  },
  {
   "cell_type": "code",
   "execution_count": null,
   "metadata": {},
   "outputs": [],
   "source": [
    "pathReal = Path.cwd() / 'smart_meters_london_2013.csv'\n",
    "pathSynth = ...\n",
    "\n",
    "df_real = pd.read_csv(pathReal, parse_dates = ['timestamp']).set_index('timestamp')\n",
    "df_synth = pd.read_csv(pathSynth, parse_dates = ['timestamp']).set_index('timestamp')"
   ]
  },
  {
   "cell_type": "code",
   "execution_count": null,
   "metadata": {},
   "outputs": [],
   "source": [
    "fig_dict, rmse_dict = create_plots(df_real, df_synth)"
   ]
  },
  {
   "cell_type": "code",
   "execution_count": null,
   "metadata": {},
   "outputs": [],
   "source": [
    "score = 0\n",
    "for item in rmse_dict.values():\n",
    "    score += item.loc[item['statistic'] != 'median', 'value'].sum()\n",
    "\n",
    "print(score)"
   ]
  },
  {
   "cell_type": "code",
   "execution_count": null,
   "metadata": {},
   "outputs": [],
   "source": [
    "from tsfresh import extract_features\n",
    "import pandas as pd\n",
    "\n",
    "\n",
    "def get_features(df, label):\n",
    "    df = df.astype(\"float32\")\n",
    "    df_features = extract_features(\n",
    "        df.reset_index().melt(id_vars = 'timestamp', var_name = 'id', value_name = 'value'),\n",
    "            column_id = 'id',\n",
    "            column_sort = 'timestamp',\n",
    "            column_value = 'value',\n",
    "            n_jobs = 1,  # Use single process to avoid progress bar issues\n",
    "            disable_progressbar = False,\n",
    "            default_fc_parameters = {\n",
    "                \"absolute_sum_of_changes\": None,\n",
    "                \"count_above_mean\": None,\n",
    "                \"has_duplicate\": None,\n",
    "                \"has_duplicate_max\": None,\n",
    "                \"has_duplicate_min\": None,\n",
    "                \"longest_strike_above_mean\": None,\n",
    "                \"mean_abs_change\": None,\n",
    "                \"percentage_of_reoccurring_values_to_all_values\": None,\n",
    "                \"root_mean_square\": None,\n",
    "                \"mean\": None,\n",
    "                \"median\": None,\n",
    "                \"skewness\": None,\n",
    "                \"sum_values\": None,\n",
    "                \"variance\": None,\n",
    "                \"benford_correlation\": None,\n",
    "                \"cid_ce\": [{\"normalize\": True}],\n",
    "                \"fft_aggregated\": [{\"aggtype\": \"centroid\"}],\n",
    "                \n",
    "            }\n",
    "    )\n",
    "    df_features['label'] = label\n",
    "    return df_features\n",
    "\n",
    "\n",
    "def create_df_features(df_real, df_synth):\n",
    "    df_real_features = get_features(df_real, 1)\n",
    "    df_synth_features = get_features(df_synth, 0)\n",
    "    df_features = pd.concat([df_real_features, df_synth_features])\n",
    "    df_features = df_features.loc[:, df_features.isna().sum() == 0]\n",
    "    return df_features"
   ]
  },
  {
   "cell_type": "code",
   "execution_count": null,
   "metadata": {},
   "outputs": [],
   "source": [
    "df_features = create_df_features(df_real, df_synth)\n",
    "\n",
    "X = df_features.drop('label', axis = 1).astype(float)\n",
    "y = df_features['label'].astype(int)"
   ]
  },
  {
   "cell_type": "code",
   "execution_count": null,
   "metadata": {},
   "outputs": [],
   "source": [
    "X_train, X_test, y_train, y_test = train_test_split(X, y, test_size = 0.2, random_state = 42)\n",
    "y_train = np.array(y_train)\n",
    "y_test = np.array(y_test)\n",
    "\n",
    "model = xgb.XGBClassifier(eval_metric = 'logloss')\n",
    "model.fit(X_train, y_train)\n",
    "\n",
    "y_pred = model.predict(X_test)\n",
    "accuracy = accuracy_score(y_test, y_pred)\n",
    "print(f'Test accuracy: {accuracy:.4f}')"
   ]
  },
  {
   "cell_type": "code",
   "execution_count": null,
   "metadata": {},
   "outputs": [],
   "source": [
    "featureImportance = model.feature_importances_\n",
    "df_importance = pd.DataFrame({\n",
    "    'Feature': X_train.columns,\n",
    "    'Importance': featureImportance\n",
    "})\n",
    "df_importance = df_importance.sort_values(by= 'Importance', ascending = False)\n",
    "df_importance"
   ]
  }
 ],
 "metadata": {
  "kernelspec": {
   "display_name": "misc",
   "language": "python",
   "name": "python3"
  },
  "language_info": {
   "codemirror_mode": {
    "name": "ipython",
    "version": 3
   },
   "file_extension": ".py",
   "mimetype": "text/x-python",
   "name": "python",
   "nbconvert_exporter": "python",
   "pygments_lexer": "ipython3",
   "version": "3.11.2"
  }
 },
 "nbformat": 4,
 "nbformat_minor": 2
}
