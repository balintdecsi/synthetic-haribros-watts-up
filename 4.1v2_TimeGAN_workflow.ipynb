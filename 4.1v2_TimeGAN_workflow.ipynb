{
 "cells": [
  {
   "cell_type": "code",
   "execution_count": null,
   "id": "933391ab-12e7-4c26-b496-4ac995b2b856",
   "metadata": {},
   "outputs": [],
   "source": [
    "import pandas as pd\n",
    "\n",
    "df = pd.read_csv('data/smart_meters_london_2013.csv')"
   ]
  },
  {
   "cell_type": "code",
   "execution_count": null,
   "id": "082dfe7b-29cd-4601-bf31-d83f81d4e254",
   "metadata": {},
   "outputs": [],
   "source": [
    "df.head()"
   ]
  },
  {
   "cell_type": "code",
   "execution_count": null,
   "id": "dac382a4-9bd3-411c-84bc-518c10738659",
   "metadata": {},
   "outputs": [],
   "source": [
    "df.sort_values(by=['timestamp'], inplace=True, ascending=False)\n",
    "df.head()"
   ]
  },
  {
   "cell_type": "code",
   "execution_count": null,
   "id": "2086d6a8-4405-4f9e-8721-653eeb0eede7",
   "metadata": {},
   "outputs": [],
   "source": [
    "import matplotlib\n",
    "import matplotlib.pyplot as plt"
   ]
  },
  {
   "cell_type": "code",
   "execution_count": null,
   "id": "0d5f34fb-1a58-49f8-a5c4-6842c540fb03",
   "metadata": {},
   "outputs": [],
   "source": [
    "plt.plot(df[\"1\"])"
   ]
  },
  {
   "cell_type": "code",
   "execution_count": null,
   "id": "36ee2051-07d4-4fec-9b53-89d9d7e01da4",
   "metadata": {},
   "outputs": [],
   "source": [
    "import pandas as pd\n",
    "import numpy as np\n",
    "from sklearn.preprocessing import MinMaxScaler\n",
    "import tensorflow as tf\n",
    "from pathlib import Path\n",
    "from tqdm import tqdm\n",
    "from tensorflow.keras.models import Sequential, Model\n",
    "from tensorflow.keras.layers import GRU, Dense, RNN, GRUCell, Input\n",
    "from tensorflow.keras.losses import BinaryCrossentropy, MeanSquaredError\n",
    "from tensorflow.keras.optimizers import Adam\n",
    "from tensorflow.keras.optimizers import RMSprop\n",
    "from tensorflow.keras.callbacks import TensorBoard\n",
    "from tensorflow.keras.utils import plot_model\n",
    "import matplotlib.pyplot as plt\n",
    "import seaborn as sns"
   ]
  },
  {
   "cell_type": "markdown",
   "id": "0b59b870-6059-46e1-8649-8df0a517a98d",
   "metadata": {},
   "source": [
    "SC04\n",
    "\n",
    "Opt  L_rate Norm Momentum Decay Batch Size\n",
    "Adam 0.001  Yes  Default  0.0   24"
   ]
  },
  {
   "cell_type": "code",
   "execution_count": null,
   "id": "013929fe-83e5-4ccc-bada-321217f83f7d",
   "metadata": {},
   "outputs": [],
   "source": [
    "gpu_devices = tf.config.experimental.list_physical_devices('GPU')\n",
    "if gpu_devices:\n",
    "    print('Using GPU')\n",
    "    tf.config.experimental.set_memory_growth(gpu_devices[0], True)\n",
    "else:\n",
    "    print('Using CPU')\n",
    "\n"
   ]
  },
  {
   "cell_type": "code",
   "execution_count": null,
   "id": "fffdd06e-ffca-4013-bc78-b3fa0d3fd2ba",
   "metadata": {},
   "outputs": [],
   "source": [
    "results_path = Path('4.1v2_time_gan')\n",
    "results_path.mkdir()"
   ]
  },
  {
   "cell_type": "code",
   "execution_count": null,
   "id": "b1e664e9-fa2b-40d3-9680-ea5adbe25aa6",
   "metadata": {},
   "outputs": [],
   "source": [
    "experiment = 0"
   ]
  },
  {
   "cell_type": "code",
   "execution_count": null,
   "id": "27b9f088-551f-4b27-861f-790cd2eb752b",
   "metadata": {},
   "outputs": [],
   "source": [
    "log_dir = results_path / f'experiment_{experiment:02}'\n",
    "if not log_dir.exists():\n",
    "    log_dir.mkdir(parents=True)"
   ]
  },
  {
   "cell_type": "code",
   "execution_count": null,
   "id": "4c343d8a-2b71-4c20-a9d7-2eda1bab9620",
   "metadata": {},
   "outputs": [],
   "source": [
    "### hdf_store = results_path / 'TimeSeriesGAN.h5'"
   ]
  },
  {
   "cell_type": "code",
   "execution_count": null,
   "id": "af1ca6c2-c15a-42ec-8b74-f1fceb16211c",
   "metadata": {},
   "outputs": [],
   "source": [
    "#df.loc[1:2, 1:2]\n",
    "df = df.iloc[:,1:]"
   ]
  },
  {
   "cell_type": "code",
   "execution_count": null,
   "id": "eebda9a5-53cf-414e-86a6-a75a3b4f0fec",
   "metadata": {},
   "outputs": [],
   "source": [
    "df.shape"
   ]
  },
  {
   "cell_type": "code",
   "execution_count": null,
   "id": "98559591-a0b6-4731-84e8-6873d872f976",
   "metadata": {},
   "outputs": [],
   "source": [
    "seq_len = 24\n",
    "n_seq = 4125\n",
    "batch_size = 64"
   ]
  },
  {
   "cell_type": "code",
   "execution_count": null,
   "id": "fa0249ae-a953-4b9f-8daa-b9dc2737534f",
   "metadata": {},
   "outputs": [],
   "source": [
    "scaler = MinMaxScaler()\n",
    "scaled_data = scaler.fit_transform(df).astype(np.float32)"
   ]
  },
  {
   "cell_type": "code",
   "execution_count": null,
   "id": "600a864a-254c-4f7d-9c11-518e29b39b62",
   "metadata": {},
   "outputs": [],
   "source": [
    "data = []\n",
    "for i in range(len(df) - seq_len):\n",
    "    data.append(scaled_data[i:i + seq_len])\n",
    "\n",
    "n_windows = len(data)"
   ]
  },
  {
   "cell_type": "code",
   "execution_count": null,
   "id": "05708288-87a9-452f-bd55-0fb188ed4c46",
   "metadata": {},
   "outputs": [],
   "source": [
    "real_series = (tf.data.Dataset\n",
    "               .from_tensor_slices(data)\n",
    "               .shuffle(buffer_size=n_windows)\n",
    "               .batch(batch_size))\n"
   ]
  },
  {
   "cell_type": "code",
   "execution_count": null,
   "id": "07d70904-ec5d-4b6f-82c2-01497f443656",
   "metadata": {},
   "outputs": [],
   "source": [
    "real_series_iter = iter(real_series.repeat())"
   ]
  },
  {
   "cell_type": "code",
   "execution_count": null,
   "id": "e5853920-b7ce-4ba1-aaa4-48a205e238f1",
   "metadata": {},
   "outputs": [],
   "source": [
    "def make_random_data():\n",
    "    while True:\n",
    "        yield np.random.uniform(low=0, high=1, size=(seq_len, n_seq))"
   ]
  },
  {
   "cell_type": "code",
   "execution_count": null,
   "id": "6323c6e6-c94e-4a00-877f-ac1f44bcbcd2",
   "metadata": {},
   "outputs": [],
   "source": [
    "random_series = iter(tf.data.Dataset\n",
    "                     .from_generator(make_random_data, output_types=tf.float32)\n",
    "                     .batch(batch_size)\n",
    "                     .repeat())"
   ]
  },
  {
   "cell_type": "code",
   "execution_count": null,
   "id": "2c824b97-f931-422b-8ad8-0595baeca31b",
   "metadata": {},
   "outputs": [],
   "source": [
    "hidden_dim = 24\n",
    "num_layers = 3"
   ]
  },
  {
   "cell_type": "code",
   "execution_count": null,
   "id": "be873476-0529-445f-b24e-e5a65f3ab999",
   "metadata": {},
   "outputs": [],
   "source": [
    "writer = tf.summary.create_file_writer(log_dir.as_posix())"
   ]
  },
  {
   "cell_type": "code",
   "execution_count": null,
   "id": "9e535b5b-b0d9-4757-838d-af8291762857",
   "metadata": {},
   "outputs": [],
   "source": [
    "X = Input(shape=[seq_len, n_seq], name='RealData')\n",
    "Z = Input(shape=[seq_len, n_seq], name='RandomData')"
   ]
  },
  {
   "cell_type": "code",
   "execution_count": null,
   "id": "09126dd9-57da-40fa-80f0-b51be7ffd63e",
   "metadata": {},
   "outputs": [],
   "source": [
    "def make_rnn(n_layers, hidden_units, output_units, name):\n",
    "    return Sequential([GRU(units=hidden_units,\n",
    "                           return_sequences=True,\n",
    "                           name=f'GRU_{i + 1}') for i in range(n_layers)] +\n",
    "                      [Dense(units=output_units,\n",
    "                             activation='sigmoid',\n",
    "                             name='OUT')], name=name)"
   ]
  },
  {
   "cell_type": "code",
   "execution_count": null,
   "id": "2e044cf0-9e3a-4c45-bdb7-bc94fe620291",
   "metadata": {},
   "outputs": [],
   "source": [
    "embedder = make_rnn(n_layers=3, \n",
    "                    hidden_units=hidden_dim, \n",
    "                    output_units=hidden_dim, \n",
    "                    name='Embedder')\n",
    "recovery = make_rnn(n_layers=3, \n",
    "                    hidden_units=hidden_dim, \n",
    "                    output_units=n_seq, \n",
    "                    name='Recovery')"
   ]
  },
  {
   "cell_type": "code",
   "execution_count": null,
   "id": "859e55f0-2489-4a6d-ab66-898ec94cabb3",
   "metadata": {},
   "outputs": [],
   "source": [
    "generator = make_rnn(n_layers=3, \n",
    "                     hidden_units=hidden_dim, \n",
    "                     output_units=hidden_dim, \n",
    "                     name='Generator')\n",
    "discriminator = make_rnn(n_layers=3, \n",
    "                         hidden_units=hidden_dim, \n",
    "                         output_units=1, \n",
    "                         name='Discriminator')\n",
    "supervisor = make_rnn(n_layers=2, \n",
    "                      hidden_units=hidden_dim, \n",
    "                      output_units=hidden_dim, \n",
    "                      name='Supervisor')"
   ]
  },
  {
   "cell_type": "code",
   "execution_count": null,
   "id": "ea135516-44e3-4b5c-a668-d1c7d18c8184",
   "metadata": {},
   "outputs": [],
   "source": [
    "train_steps = 1500\n",
    "gamma = 1\n",
    "\n",
    "mse = MeanSquaredError()\n",
    "bce = BinaryCrossentropy()"
   ]
  },
  {
   "cell_type": "code",
   "execution_count": null,
   "id": "0ba86412-0b0b-433e-b2f5-f4df69445e42",
   "metadata": {},
   "outputs": [],
   "source": [
    "H = embedder(X)\n",
    "X_tilde = recovery(H)\n",
    "\n",
    "autoencoder = Model(inputs=X,\n",
    "                    outputs=X_tilde,\n",
    "                    name='Autoencoder')"
   ]
  },
  {
   "cell_type": "code",
   "execution_count": null,
   "id": "773d5a62-ee70-4664-8b5a-fba6330a0f63",
   "metadata": {},
   "outputs": [],
   "source": [
    "autoencoder.summary()"
   ]
  },
  {
   "cell_type": "code",
   "execution_count": null,
   "id": "77b058e6-d871-411a-ad3e-5f6b10c4878b",
   "metadata": {},
   "outputs": [],
   "source": [
    "plot_model(autoencoder,\n",
    "           to_file=(results_path / 'autoencoder.png').as_posix(),\n",
    "           show_shapes=True)"
   ]
  },
  {
   "cell_type": "code",
   "execution_count": null,
   "id": "9f4f8a73-4ed1-4cc2-a525-df1755b23e43",
   "metadata": {},
   "outputs": [],
   "source": [
    "autoencoder_optimizer = RMSprop(learning_rate=0.001, weight_decay=0.9)"
   ]
  },
  {
   "cell_type": "code",
   "execution_count": null,
   "id": "5ec7e00e-d891-410a-b5b5-8c7cdcaed058",
   "metadata": {},
   "outputs": [],
   "source": [
    "@tf.function\n",
    "def train_autoencoder_init(x):\n",
    "    with tf.GradientTape() as tape:\n",
    "        x_tilde = autoencoder(x)\n",
    "        embedding_loss_t0 = mse(x, x_tilde)\n",
    "        e_loss_0 = 10 * tf.sqrt(embedding_loss_t0)\n",
    "\n",
    "    var_list = embedder.trainable_variables + recovery.trainable_variables\n",
    "    gradients = tape.gradient(e_loss_0, var_list)\n",
    "    autoencoder_optimizer.apply_gradients(zip(gradients, var_list))\n",
    "    return tf.sqrt(embedding_loss_t0)"
   ]
  },
  {
   "cell_type": "code",
   "execution_count": null,
   "id": "2669b143-4157-40d8-bb9f-b896094b5321",
   "metadata": {},
   "outputs": [],
   "source": [
    "for step in tqdm(range(train_steps)):\n",
    "    X_ = next(real_series_iter)\n",
    "    step_e_loss_t0 = train_autoencoder_init(X_)\n",
    "    with writer.as_default():\n",
    "        tf.summary.scalar('Loss Autoencoder Init', step_e_loss_t0, step=step)"
   ]
  },
  {
   "cell_type": "code",
   "execution_count": null,
   "id": "4202e87a-1069-4cb3-9fcc-c1e9cd7edc57",
   "metadata": {},
   "outputs": [],
   "source": [
    "supervisor_optimizer = RMSprop(learning_rate=0.001, weight_decay=0.9)"
   ]
  },
  {
   "cell_type": "code",
   "execution_count": null,
   "id": "cbe38fb8-db1b-4459-8645-2242a16d44d9",
   "metadata": {},
   "outputs": [],
   "source": [
    "@tf.function\n",
    "def train_supervisor(x):\n",
    "    with tf.GradientTape() as tape:\n",
    "        h = embedder(x)\n",
    "        h_hat_supervised = supervisor(h)\n",
    "        g_loss_s = mse(h[:, 1:, :], h_hat_supervised[:, :-1, :])\n",
    "\n",
    "    var_list = supervisor.trainable_variables\n",
    "    gradients = tape.gradient(g_loss_s, var_list)\n",
    "    supervisor_optimizer.apply_gradients(zip(gradients, var_list))\n",
    "    return g_loss_s"
   ]
  },
  {
   "cell_type": "code",
   "execution_count": null,
   "id": "53da5b19-5ac1-4a9e-b7ae-4d6f35784b79",
   "metadata": {},
   "outputs": [],
   "source": [
    "for step in tqdm(range(train_steps)):\n",
    "    X_ = next(real_series_iter)\n",
    "    step_g_loss_s = train_supervisor(X_)\n",
    "    with writer.as_default():\n",
    "        tf.summary.scalar('Loss Generator Supervised Init', step_g_loss_s, step=step)"
   ]
  },
  {
   "cell_type": "markdown",
   "id": "f8759b46-145a-4e38-a05d-a292b9871330",
   "metadata": {},
   "source": [
    "###  Joint Training"
   ]
  },
  {
   "cell_type": "markdown",
   "id": "2eb0e2cd-94d1-4f63-b045-97632cd170d2",
   "metadata": {},
   "source": [
    "##   Generator"
   ]
  },
  {
   "cell_type": "code",
   "execution_count": null,
   "id": "effd36dd-1c4b-4988-b9c4-c095c03b1d81",
   "metadata": {},
   "outputs": [],
   "source": [
    "E_hat = generator(Z)\n",
    "H_hat = supervisor(E_hat)\n",
    "Y_fake = discriminator(H_hat)\n",
    "\n",
    "adversarial_supervised = Model(inputs=Z,\n",
    "                               outputs=Y_fake,\n",
    "                               name='AdversarialNetSupervised')"
   ]
  },
  {
   "cell_type": "code",
   "execution_count": null,
   "id": "c6af66b2-8bec-4c24-8b31-c3e5ef6a80f6",
   "metadata": {},
   "outputs": [],
   "source": [
    "adversarial_supervised.summary()"
   ]
  },
  {
   "cell_type": "code",
   "execution_count": null,
   "id": "04f629bb-0c20-4c01-855d-ce4be2f4630a",
   "metadata": {},
   "outputs": [],
   "source": [
    "plot_model(adversarial_supervised, show_shapes=True)"
   ]
  },
  {
   "cell_type": "code",
   "execution_count": null,
   "id": "ba69f3ee-09e3-4a3c-8022-4bbb6455db9b",
   "metadata": {},
   "outputs": [],
   "source": [
    "Y_fake_e = discriminator(E_hat)\n",
    "\n",
    "adversarial_emb = Model(inputs=Z,\n",
    "                    outputs=Y_fake_e,\n",
    "                    name='AdversarialNet')"
   ]
  },
  {
   "cell_type": "code",
   "execution_count": null,
   "id": "529a93c3-874c-428d-b19a-2d60c270478c",
   "metadata": {},
   "outputs": [],
   "source": [
    "adversarial_emb.summary()"
   ]
  },
  {
   "cell_type": "code",
   "execution_count": null,
   "id": "65f0c181-a5fd-49fc-b4d0-6308c6daf2fb",
   "metadata": {},
   "outputs": [],
   "source": [
    "plot_model(adversarial_emb, show_shapes=True)"
   ]
  },
  {
   "cell_type": "code",
   "execution_count": null,
   "id": "d854c86a-069a-4e68-aced-f0769628e0ca",
   "metadata": {},
   "outputs": [],
   "source": [
    "X_hat = recovery(H_hat)\n",
    "synthetic_data = Model(inputs=Z,\n",
    "                       outputs=X_hat,\n",
    "                       name='SyntheticData')"
   ]
  },
  {
   "cell_type": "code",
   "execution_count": null,
   "id": "edf7f969-dabe-40ab-8e89-1b6a54e88dfd",
   "metadata": {},
   "outputs": [],
   "source": [
    "synthetic_data.summary()"
   ]
  },
  {
   "cell_type": "code",
   "execution_count": null,
   "id": "e5ff701e-495c-4b7d-ae99-2034b60625fa",
   "metadata": {},
   "outputs": [],
   "source": [
    "plot_model(synthetic_data, show_shapes=True)"
   ]
  },
  {
   "cell_type": "code",
   "execution_count": null,
   "id": "6402a79f-c561-4747-b683-124ef7481dd4",
   "metadata": {},
   "outputs": [],
   "source": [
    "def get_generator_moment_loss(y_true, y_pred):\n",
    "    y_true_mean, y_true_var = tf.nn.moments(x=y_true, axes=[0])\n",
    "    y_pred_mean, y_pred_var = tf.nn.moments(x=y_pred, axes=[0])\n",
    "    g_loss_mean = tf.reduce_mean(tf.abs(y_true_mean - y_pred_mean))\n",
    "    g_loss_var = tf.reduce_mean(tf.abs(tf.sqrt(y_true_var + 1e-6) - tf.sqrt(y_pred_var + 1e-6)))\n",
    "    return g_loss_mean + g_loss_var"
   ]
  },
  {
   "cell_type": "markdown",
   "id": "f4d5e350-8b46-49fc-9997-7d3f983cb32e",
   "metadata": {},
   "source": [
    "##  Discriminator"
   ]
  },
  {
   "cell_type": "code",
   "execution_count": null,
   "id": "7dfe9aa6-a1b5-4f30-9164-7ff651502c80",
   "metadata": {},
   "outputs": [],
   "source": [
    "Y_real = discriminator(H)\n",
    "discriminator_model = Model(inputs=X,\n",
    "                            outputs=Y_real,\n",
    "                            name='DiscriminatorReal')"
   ]
  },
  {
   "cell_type": "code",
   "execution_count": null,
   "id": "f53cb23a-5a87-420d-9f84-fbe7329870a9",
   "metadata": {},
   "outputs": [],
   "source": [
    "discriminator_model.summary()"
   ]
  },
  {
   "cell_type": "code",
   "execution_count": null,
   "id": "9e7ad349-cb3a-46ec-881d-bfc65f8fd9a2",
   "metadata": {},
   "outputs": [],
   "source": [
    "plot_model(discriminator_model, show_shapes=True)"
   ]
  },
  {
   "cell_type": "code",
   "execution_count": null,
   "id": "fdcd9a0b-903f-4d02-9b0d-23bb003af684",
   "metadata": {},
   "outputs": [],
   "source": [
    "generator_optimizer = RMSprop(learning_rate=0.001, weight_decay=0.9)\n",
    "discriminator_optimizer = RMSprop(learning_rate=0.001, weight_decay=0.9)\n",
    "embedding_optimizer = RMSprop(learning_rate=0.001, weight_decay=0.9)"
   ]
  },
  {
   "cell_type": "markdown",
   "id": "909d8f4b-37dc-45f6-b581-ed3c33046fe8",
   "metadata": {},
   "source": [
    "##  Generator Train Step"
   ]
  },
  {
   "cell_type": "code",
   "execution_count": null,
   "id": "0ea8808e-5481-4d79-98a4-868d28813b38",
   "metadata": {},
   "outputs": [],
   "source": [
    "@tf.function\n",
    "def train_generator(x, z):\n",
    "    with tf.GradientTape() as tape:\n",
    "        y_fake = adversarial_supervised(z)\n",
    "        generator_loss_unsupervised = bce(y_true=tf.ones_like(y_fake),\n",
    "                                          y_pred=y_fake)\n",
    "\n",
    "        y_fake_e = adversarial_emb(z)\n",
    "        generator_loss_unsupervised_e = bce(y_true=tf.ones_like(y_fake_e),\n",
    "                                            y_pred=y_fake_e)\n",
    "        h = embedder(x)\n",
    "        h_hat_supervised = supervisor(h)\n",
    "        generator_loss_supervised = mse(h[:, 1:, :], h_hat_supervised[:, 1:, :])\n",
    "\n",
    "        x_hat = synthetic_data(z)\n",
    "        generator_moment_loss = get_generator_moment_loss(x, x_hat)\n",
    "\n",
    "        generator_loss = (generator_loss_unsupervised +\n",
    "                          generator_loss_unsupervised_e +\n",
    "                          100 * tf.sqrt(generator_loss_supervised) +\n",
    "                          100 * generator_moment_loss)\n",
    "\n",
    "    var_list = generator.trainable_variables + supervisor.trainable_variables\n",
    "    gradients = tape.gradient(generator_loss, var_list)\n",
    "    generator_optimizer.apply_gradients(zip(gradients, var_list))\n",
    "    return generator_loss_unsupervised, generator_loss_supervised, generator_moment_loss"
   ]
  },
  {
   "cell_type": "markdown",
   "id": "a1fe804b-f033-4688-90c0-cfb321b6ae35",
   "metadata": {},
   "source": [
    "### Embedding Train Step"
   ]
  },
  {
   "cell_type": "code",
   "execution_count": null,
   "id": "707748f5-bea4-46f6-bedb-74339f88e21d",
   "metadata": {},
   "outputs": [],
   "source": [
    "@tf.function\n",
    "def train_embedder(x):\n",
    "    with tf.GradientTape() as tape:\n",
    "        h = embedder(x)\n",
    "        h_hat_supervised = supervisor(h)\n",
    "        generator_loss_supervised = mse(h[:, 1:, :], h_hat_supervised[:, 1:, :])\n",
    "\n",
    "        x_tilde = autoencoder(x)\n",
    "        embedding_loss_t0 = mse(x, x_tilde)\n",
    "        e_loss = 10 * tf.sqrt(embedding_loss_t0) + 0.1 * generator_loss_supervised\n",
    "\n",
    "    var_list = embedder.trainable_variables + recovery.trainable_variables\n",
    "    gradients = tape.gradient(e_loss, var_list)\n",
    "    embedding_optimizer.apply_gradients(zip(gradients, var_list))\n",
    "    return tf.sqrt(embedding_loss_t0)"
   ]
  },
  {
   "cell_type": "markdown",
   "id": "9b1a3f47-9320-4af8-960e-90ca71268270",
   "metadata": {},
   "source": [
    "###  Discriminator Train Step"
   ]
  },
  {
   "cell_type": "code",
   "execution_count": null,
   "id": "6ecd16c8-e3fa-49bf-bae1-dc699e29b062",
   "metadata": {},
   "outputs": [],
   "source": [
    "@tf.function\n",
    "def get_discriminator_loss(x, z):\n",
    "    y_real = discriminator_model(x)\n",
    "    discriminator_loss_real = bce(y_true=tf.ones_like(y_real),\n",
    "                                  y_pred=y_real)\n",
    "\n",
    "    y_fake = adversarial_supervised(z)\n",
    "    discriminator_loss_fake = bce(y_true=tf.zeros_like(y_fake),\n",
    "                                  y_pred=y_fake)\n",
    "\n",
    "    y_fake_e = adversarial_emb(z)\n",
    "    discriminator_loss_fake_e = bce(y_true=tf.zeros_like(y_fake_e),\n",
    "                                    y_pred=y_fake_e)\n",
    "    return (discriminator_loss_real +\n",
    "            discriminator_loss_fake +\n",
    "            gamma * discriminator_loss_fake_e)"
   ]
  },
  {
   "cell_type": "code",
   "execution_count": null,
   "id": "c9655450-ebe8-429a-9101-dd7f71a49e09",
   "metadata": {},
   "outputs": [],
   "source": [
    "@tf.function\n",
    "def train_discriminator(x, z):\n",
    "    with tf.GradientTape() as tape:\n",
    "        discriminator_loss = get_discriminator_loss(x, z)\n",
    "\n",
    "    var_list = discriminator.trainable_variables\n",
    "    gradients = tape.gradient(discriminator_loss, var_list)\n",
    "    discriminator_optimizer.apply_gradients(zip(gradients, var_list))\n",
    "    return discriminator_loss"
   ]
  },
  {
   "cell_type": "markdown",
   "id": "75933217-4289-47bd-a411-6b3622f383e3",
   "metadata": {},
   "source": [
    "###  Training Loop"
   ]
  },
  {
   "cell_type": "code",
   "execution_count": null,
   "id": "c5315dcc-fa81-43f8-9a83-2f751b31e5ba",
   "metadata": {},
   "outputs": [],
   "source": [
    "import time\n",
    "start = time.time()\n",
    "\n",
    "step_g_loss_u = step_g_loss_s = step_g_loss_v = step_e_loss_t0 = step_d_loss = 0\n",
    "losses_d = []\n",
    "losses_g = []\n",
    "accuracies = []\n",
    "\n",
    "for step in range(train_steps):\n",
    "    # Train generator (twice as often as discriminator)\n",
    "    for kk in range(2):\n",
    "        X_ = next(real_series_iter)\n",
    "        Z_ = next(random_series)\n",
    "\n",
    "        # Train generator\n",
    "        step_g_loss_u, step_g_loss_s, step_g_loss_v = train_generator(X_, Z_)\n",
    "        # Train embedder\n",
    "        step_e_loss_t0 = train_embedder(X_)\n",
    "\n",
    "    X_ = next(real_series_iter)\n",
    "    Z_ = next(random_series)\n",
    "    step_d_loss = get_discriminator_loss(X_, Z_)\n",
    "    if step_d_loss > 0.15:\n",
    "        step_d_loss = train_discriminator(X_, Z_)\n",
    "\n",
    "    if step % 25 == 0:\n",
    "        print(f'{step:6,.0f} | d_loss: {step_d_loss:6.4f} | g_loss_u: {step_g_loss_u:6.4f} | '\n",
    "              f'g_loss_s: {step_g_loss_s:6.4f} | g_loss_v: {step_g_loss_v:6.4f} | e_loss_t0: {step_e_loss_t0:6.4f}')\n",
    "\n",
    "    losses_g.append(step_g_loss_u)\n",
    "    losses_d.append(step_d_loss)\n",
    "\n",
    "    with writer.as_default():\n",
    "        tf.summary.scalar('G Loss S', step_g_loss_s, step=step)\n",
    "        tf.summary.scalar('G Loss U', step_g_loss_u, step=step)\n",
    "        tf.summary.scalar('G Loss V', step_g_loss_v, step=step)\n",
    "        tf.summary.scalar('E Loss T0', step_e_loss_t0, step=step)\n",
    "        tf.summary.scalar('D Loss', step_d_loss, step=step)\n",
    "\n",
    "end = time.time()\n",
    "print(end - start)"
   ]
  },
  {
   "cell_type": "code",
   "execution_count": null,
   "id": "40952980-e5f1-4bd5-8851-1400f8a22d26",
   "metadata": {},
   "outputs": [],
   "source": [
    "plt.plot(losses_d)\n"
   ]
  },
  {
   "cell_type": "code",
   "execution_count": null,
   "id": "7e54c59b-b03d-4d14-848f-63b5c8bdd502",
   "metadata": {},
   "outputs": [],
   "source": [
    "plt.plot(losses_g)"
   ]
  },
  {
   "cell_type": "code",
   "execution_count": null,
   "id": "ab47cd39-42c9-43d2-b2ee-d9360b217d0b",
   "metadata": {},
   "outputs": [],
   "source": [
    "synthetic_data.save(log_dir / 'synthetic_data')"
   ]
  },
  {
   "cell_type": "code",
   "execution_count": null,
   "id": "15d6ab85-db5c-4abc-a5b5-c0dcdf06f40e",
   "metadata": {},
   "outputs": [],
   "source": [
    "generated_data = []\n",
    "for i in range(int(n_windows / batch_size)):\n",
    "    Z_ = next(random_series)\n",
    "    d = synthetic_data(Z_)\n",
    "    generated_data.append(d)"
   ]
  },
  {
   "cell_type": "code",
   "execution_count": null,
   "id": "d3237ccf-aed1-409f-85d3-fae432b546e9",
   "metadata": {},
   "outputs": [],
   "source": [
    "generated_data = np.array(np.vstack(generated_data))\n",
    "generated_data.shape"
   ]
  },
  {
   "cell_type": "code",
   "execution_count": null,
   "id": "1dfdf4b0-7ffe-4959-aae7-ad74b7d7c06e",
   "metadata": {},
   "outputs": [],
   "source": [
    "np.save(log_dir / 'generated_data4.1.npy', generated_data)"
   ]
  },
  {
   "cell_type": "code",
   "execution_count": null,
   "id": "b36d9d35-60cd-4ce3-8983-a29ce58d0ccd",
   "metadata": {},
   "outputs": [],
   "source": [
    "generated_data = (scaler.inverse_transform(generated_data\n",
    "                                           .reshape(-1, n_seq))\n",
    "                  .reshape(-1, seq_len, n_seq))\n",
    "generated_data.shape"
   ]
  },
  {
   "cell_type": "code",
   "execution_count": null,
   "id": "57f26313-3095-4980-b538-4fd8b9f0a693",
   "metadata": {},
   "outputs": [],
   "source": [
    "log_dir"
   ]
  },
  {
   "cell_type": "code",
   "execution_count": null,
   "id": "bee8a840-6836-426f-87b3-998e5475d3d9",
   "metadata": {},
   "outputs": [],
   "source": []
  },
  {
   "cell_type": "markdown",
   "id": "409757d1-5c26-4343-ad26-0ce6b69d43b4",
   "metadata": {},
   "source": [
    "# WORKFLOW FINISHED"
   ]
  },
  {
   "cell_type": "code",
   "execution_count": null,
   "id": "c3f14ef4-a8d3-4b26-bcc9-32a582380bd0",
   "metadata": {},
   "outputs": [],
   "source": [
    "fig, axes = plt.subplots(nrows=3, ncols=2, figsize=(14, 7))\n",
    "axes = axes.flatten()\n",
    "\n",
    "index = list(range(1, 25))\n",
    "synthetic = generated_data[np.random.randint(n_windows)]\n",
    "\n",
    "idx = np.random.randint(len(df) - seq_len)\n",
    "real = df.iloc[idx: idx + seq_len]\n",
    "\n",
    "for j, ticker in enumerate(tickers):\n",
    "    (pd.DataFrame({'Real': real.iloc[:, j].values,\n",
    "                   'Synthetic': synthetic[:, j]})\n",
    "     .plot(ax=axes[j],\n",
    "           title=ticker,\n",
    "           secondary_y='Synthetic', style=['-', '--'],\n",
    "           lw=1))\n",
    "sns.despine()\n",
    "fig.tight_layout()"
   ]
  },
  {
   "cell_type": "code",
   "execution_count": null,
   "id": "b0de41ff-3576-4b27-ba0f-ceba4bdab17b",
   "metadata": {},
   "outputs": [],
   "source": []
  },
  {
   "cell_type": "markdown",
   "id": "38a1f975-b10e-4017-b771-a1a8b274c594",
   "metadata": {},
   "source": [
    "### Evaluation"
   ]
  },
  {
   "cell_type": "code",
   "execution_count": null,
   "id": "f93a739a-da22-49fb-b6a4-3c887ad8a18e",
   "metadata": {},
   "outputs": [],
   "source": [
    "from pathlib import Path\n",
    "\n",
    "import numpy as np\n",
    "import pandas as pd\n",
    "\n",
    "from sklearn.manifold import TSNE\n",
    "from sklearn.decomposition import PCA\n",
    "from sklearn.preprocessing import MinMaxScaler\n",
    "\n",
    "import tensorflow as tf\n",
    "from tensorflow.keras.models import Sequential\n",
    "from tensorflow.keras.layers import GRU, Dense\n",
    "from tensorflow.keras.losses import BinaryCrossentropy, MeanSquaredError, MeanAbsoluteError\n",
    "from tensorflow.keras.optimizers import Adam\n",
    "from tensorflow.keras.metrics import AUC\n",
    "\n",
    "import matplotlib.pyplot as plt\n",
    "import seaborn as sns"
   ]
  },
  {
   "cell_type": "code",
   "execution_count": null,
   "id": "3c3d0a45-134f-46da-9980-d9c18f02b17c",
   "metadata": {},
   "outputs": [],
   "source": [
    "gpu_devices = tf.config.experimental.list_physical_devices('GPU')\n",
    "if gpu_devices:\n",
    "    print('Using GPU')\n",
    "    tf.config.experimental.set_memory_growth(gpu_devices[0], True)\n",
    "else:\n",
    "    print('Using CPU')"
   ]
  },
  {
   "cell_type": "code",
   "execution_count": null,
   "id": "d51953ca-e0a5-468a-b724-53fd9f2b853c",
   "metadata": {},
   "outputs": [],
   "source": [
    "sns.set_style('white')"
   ]
  },
  {
   "cell_type": "code",
   "execution_count": null,
   "id": "4fe8cf42-567e-4a27-9fd8-c561c3951dcf",
   "metadata": {},
   "outputs": [],
   "source": [
    "# seq_len = 24\n",
    "# n_seq = 6\n",
    "# experiment = 0"
   ]
  },
  {
   "cell_type": "code",
   "execution_count": null,
   "id": "76e1eb46-fb66-4a73-81ff-7da674f8286f",
   "metadata": {},
   "outputs": [],
   "source": [
    "df = pd.read_csv('data/smart_meters_london_2013.csv')\n",
    "#df.loc[1:2, 1:2]\n",
    "df = df.iloc[:,1:]\n",
    "\n",
    "\n",
    "scaler = MinMaxScaler()\n",
    "scaled_data = scaler.fit_transform(df).astype(np.float32)\n",
    "\n",
    "data = []\n",
    "for i in range(len(df) - seq_len):\n",
    "    data.append(scaled_data[i:i + seq_len])\n",
    "\n",
    "real_data = data"
   ]
  },
  {
   "cell_type": "code",
   "execution_count": null,
   "id": "d3bd39ec-e3b5-4d80-bdb0-4ba4b427ee7a",
   "metadata": {},
   "outputs": [],
   "source": [
    "n = len(real_data)"
   ]
  },
  {
   "cell_type": "code",
   "execution_count": null,
   "id": "8f0f5aed-e90b-465f-97e6-00108b728795",
   "metadata": {},
   "outputs": [],
   "source": [
    "np.asarray(real_data).shape # (8736, 24, 4125)"
   ]
  },
  {
   "cell_type": "code",
   "execution_count": null,
   "id": "5e30c747-3a37-4b25-ae2e-c4dd86ed0482",
   "metadata": {},
   "outputs": [],
   "source": [
    "#path = Path('4.1v2_time_gan')\n",
    "synthetic_data = np.load('4.1v2_time_gan/experiment_00/generated_data4.1.npy')\n",
    "synthetic_data.shape\n",
    "# (8704, 24, 4125)"
   ]
  },
  {
   "cell_type": "code",
   "execution_count": null,
   "id": "e51ae2d5-a46c-4569-8dd2-c9707b13c5d3",
   "metadata": {},
   "outputs": [],
   "source": [
    "real_data = real_data[:synthetic_data.shape[0]]"
   ]
  },
  {
   "cell_type": "markdown",
   "id": "c3add9a4-c8cd-4fbe-b68f-5e77f9549f66",
   "metadata": {},
   "source": [
    "### Prepare sample"
   ]
  },
  {
   "cell_type": "code",
   "execution_count": null,
   "id": "34790af1-edfb-4600-820c-83215907bd37",
   "metadata": {},
   "outputs": [],
   "source": [
    "sample_size = 250\n",
    "idx = np.random.permutation(len(real_data))[:sample_size]"
   ]
  },
  {
   "cell_type": "code",
   "execution_count": null,
   "id": "6345fb3e-93ca-43bb-9787-7b163b03f6c3",
   "metadata": {},
   "outputs": [],
   "source": [
    "real_sample = np.asarray(real_data)[idx]\n",
    "synthetic_sample = np.asarray(synthetic_data)[idx]"
   ]
  },
  {
   "cell_type": "code",
   "execution_count": null,
   "id": "063dbfd1-ec95-4fcb-ab1a-9466e67d86c0",
   "metadata": {},
   "outputs": [],
   "source": [
    "real_sample_2d = real_sample.reshape(-1, seq_len)\n",
    "synthetic_sample_2d = synthetic_sample.reshape(-1, seq_len)"
   ]
  },
  {
   "cell_type": "code",
   "execution_count": null,
   "id": "971915a2-c8ec-4150-976c-7fb53c2ee0d7",
   "metadata": {},
   "outputs": [],
   "source": [
    "real_sample_2d.shape, synthetic_sample_2d.shape"
   ]
  },
  {
   "cell_type": "markdown",
   "id": "20da3dab-1e78-4c6c-8916-aeb4919a366a",
   "metadata": {},
   "source": [
    "# Visualization in 2D"
   ]
  },
  {
   "cell_type": "code",
   "execution_count": null,
   "id": "670620d1-24f1-4432-8fac-a8b55b91cbc7",
   "metadata": {},
   "outputs": [],
   "source": [
    "pca = PCA(n_components=2)\n",
    "pca.fit(real_sample_2d)\n",
    "pca_real = (pd.DataFrame(pca.transform(real_sample_2d))\n",
    "            .assign(Data='Real'))\n",
    "pca_synthetic = (pd.DataFrame(pca.transform(synthetic_sample_2d))\n",
    "                 .assign(Data='Synthetic'))\n",
    "pca_result = pd.concat([pca_real, pca_synthetic]).rename(\n",
    "    columns={0: '1st Component', 1: '2nd Component'})"
   ]
  },
  {
   "cell_type": "code",
   "execution_count": null,
   "id": "52d92e8e-4e67-471a-bd9a-a2346b528c61",
   "metadata": {},
   "outputs": [],
   "source": [
    "tsne_data = np.concatenate((real_sample_2d,\n",
    "                            synthetic_sample_2d), axis=0)\n",
    "\n",
    "tsne = TSNE(n_components=2,\n",
    "            verbose=1,\n",
    "            perplexity=40)\n",
    "tsne_result = tsne.fit_transform(tsne_data)"
   ]
  },
  {
   "cell_type": "code",
   "execution_count": null,
   "id": "74cc4650-53c8-49b5-8aac-819ff7c9828f",
   "metadata": {},
   "outputs": [],
   "source": [
    "tsne_result = pd.DataFrame(tsne_result, columns=['X', 'Y']).assign(Data='Real')\n",
    "tsne_result.loc[sample_size*6:, 'Data'] = 'Synthetic'"
   ]
  },
  {
   "cell_type": "markdown",
   "id": "0c23e7a3-cf45-4960-af4f-ce9ef1f86788",
   "metadata": {},
   "source": [
    "# Plot Result"
   ]
  },
  {
   "cell_type": "code",
   "execution_count": null,
   "id": "1965508b-0b77-4285-8a38-538464dd19c7",
   "metadata": {},
   "outputs": [],
   "source": [
    "\n",
    "fig, axes = plt.subplots(ncols=1, figsize=(14, 5))\n",
    "\n",
    "sns.scatterplot(x='1st Component', y='2nd Component', data=pca_result,\n",
    "                hue='Data', style='Data', ax=axes[0])\n",
    "sns.despine()\n",
    "axes[0].set_title('PCA Result')\n",
    "\n",
    "\n",
    "sns.scatterplot(x='X', y='Y',\n",
    "                data=tsne_result,\n",
    "                hue='Data', \n",
    "                style='Data', \n",
    "                ax=axes[1])\n",
    "sns.despine()\n",
    "for i in [0, 1]:\n",
    "    axes[i].set_xticks([])\n",
    "    axes[i].set_yticks([])\n",
    "\n",
    "axes[1].set_title('t-SNE Result')\n",
    "fig.suptitle('Assessing Diversity: Qualitative Comparison of Real and Synthetic Data Distributions', \n",
    "             fontsize=14)\n",
    "fig.tight_layout()\n",
    "fig.subplots_adjust(top=.88);"
   ]
  },
  {
   "cell_type": "code",
   "execution_count": null,
   "id": "ccb2eea8-9d52-47be-b18c-e35eed634344",
   "metadata": {},
   "outputs": [],
   "source": [
    "fig, axes = plt.subplots(ncols=2, figsize=(14, 5))\n",
    "\n",
    "sns.scatterplot(x='1st Component', y='2nd Component', data=pca_result,\n",
    "                hue='Data', style='Data', ax=axes[0])\n",
    "sns.despine()\n",
    "axes[0].set_title('PCA Result')"
   ]
  },
  {
   "cell_type": "code",
   "execution_count": null,
   "id": "8416c021-7678-4a26-aa1d-ed592fdf753a",
   "metadata": {},
   "outputs": [],
   "source": []
  },
  {
   "cell_type": "code",
   "execution_count": null,
   "id": "c6488db5-549b-42b5-829d-c78d823fe721",
   "metadata": {},
   "outputs": [],
   "source": []
  },
  {
   "cell_type": "code",
   "execution_count": null,
   "id": "93d6d774-627f-4e73-92c8-2ae7285b8583",
   "metadata": {},
   "outputs": [],
   "source": []
  },
  {
   "cell_type": "code",
   "execution_count": null,
   "id": "618f9a71-444f-41d2-a880-01d99f803462",
   "metadata": {},
   "outputs": [],
   "source": []
  },
  {
   "cell_type": "code",
   "execution_count": null,
   "id": "6cb6f8ab-4f81-40a8-8541-3c7a1fa0e6f9",
   "metadata": {},
   "outputs": [],
   "source": []
  }
 ],
 "metadata": {
  "kernelspec": {
   "display_name": "Python 3 (ipykernel)",
   "language": "python",
   "name": "python3"
  },
  "language_info": {
   "codemirror_mode": {
    "name": "ipython",
    "version": 3
   },
   "file_extension": ".py",
   "mimetype": "text/x-python",
   "name": "python",
   "nbconvert_exporter": "python",
   "pygments_lexer": "ipython3",
   "version": "3.10.14"
  }
 },
 "nbformat": 4,
 "nbformat_minor": 5
}
