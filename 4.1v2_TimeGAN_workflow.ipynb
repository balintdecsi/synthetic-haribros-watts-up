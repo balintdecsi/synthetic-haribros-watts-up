{
 "cells": [
  {
   "cell_type": "code",
   "execution_count": 1,
   "id": "933391ab-12e7-4c26-b496-4ac995b2b856",
   "metadata": {},
   "outputs": [],
   "source": [
    "import pandas as pd\n",
    "\n",
    "df = pd.read_csv('smart_meters_london_2013.csv')"
   ]
  },
  {
   "cell_type": "code",
   "execution_count": 2,
   "id": "082dfe7b-29cd-4601-bf31-d83f81d4e254",
   "metadata": {},
   "outputs": [],
   "source": [
    "df['timestamp'] = pd.to_datetime(df['timestamp'])\n",
    "df.set_index('timestamp', inplace=True)"
   ]
  },
  {
   "cell_type": "code",
   "execution_count": 3,
   "id": "dac382a4-9bd3-411c-84bc-518c10738659",
   "metadata": {},
   "outputs": [
    {
     "data": {
      "text/html": [
       "<div>\n",
       "<style scoped>\n",
       "    .dataframe tbody tr th:only-of-type {\n",
       "        vertical-align: middle;\n",
       "    }\n",
       "\n",
       "    .dataframe tbody tr th {\n",
       "        vertical-align: top;\n",
       "    }\n",
       "\n",
       "    .dataframe thead th {\n",
       "        text-align: right;\n",
       "    }\n",
       "</style>\n",
       "<table border=\"1\" class=\"dataframe\">\n",
       "  <thead>\n",
       "    <tr style=\"text-align: right;\">\n",
       "      <th></th>\n",
       "      <th>0</th>\n",
       "      <th>1</th>\n",
       "      <th>2</th>\n",
       "      <th>3</th>\n",
       "      <th>4</th>\n",
       "      <th>5</th>\n",
       "      <th>6</th>\n",
       "      <th>7</th>\n",
       "      <th>8</th>\n",
       "      <th>9</th>\n",
       "      <th>...</th>\n",
       "      <th>4115</th>\n",
       "      <th>4116</th>\n",
       "      <th>4117</th>\n",
       "      <th>4118</th>\n",
       "      <th>4119</th>\n",
       "      <th>4120</th>\n",
       "      <th>4121</th>\n",
       "      <th>4122</th>\n",
       "      <th>4123</th>\n",
       "      <th>4124</th>\n",
       "    </tr>\n",
       "    <tr>\n",
       "      <th>timestamp</th>\n",
       "      <th></th>\n",
       "      <th></th>\n",
       "      <th></th>\n",
       "      <th></th>\n",
       "      <th></th>\n",
       "      <th></th>\n",
       "      <th></th>\n",
       "      <th></th>\n",
       "      <th></th>\n",
       "      <th></th>\n",
       "      <th></th>\n",
       "      <th></th>\n",
       "      <th></th>\n",
       "      <th></th>\n",
       "      <th></th>\n",
       "      <th></th>\n",
       "      <th></th>\n",
       "      <th></th>\n",
       "      <th></th>\n",
       "      <th></th>\n",
       "      <th></th>\n",
       "    </tr>\n",
       "  </thead>\n",
       "  <tbody>\n",
       "    <tr>\n",
       "      <th>2013-12-31 23:00:00</th>\n",
       "      <td>0.943</td>\n",
       "      <td>0.149</td>\n",
       "      <td>0.157</td>\n",
       "      <td>0.282</td>\n",
       "      <td>0.113</td>\n",
       "      <td>0.722</td>\n",
       "      <td>1.701</td>\n",
       "      <td>0.839</td>\n",
       "      <td>0.000</td>\n",
       "      <td>0.218</td>\n",
       "      <td>...</td>\n",
       "      <td>1.723</td>\n",
       "      <td>0.304</td>\n",
       "      <td>0.946</td>\n",
       "      <td>0.108</td>\n",
       "      <td>0.181</td>\n",
       "      <td>0.218</td>\n",
       "      <td>0.187</td>\n",
       "      <td>1.000</td>\n",
       "      <td>0.168</td>\n",
       "      <td>0.119</td>\n",
       "    </tr>\n",
       "    <tr>\n",
       "      <th>2013-12-31 22:00:00</th>\n",
       "      <td>0.858</td>\n",
       "      <td>0.484</td>\n",
       "      <td>0.000</td>\n",
       "      <td>0.467</td>\n",
       "      <td>0.154</td>\n",
       "      <td>0.732</td>\n",
       "      <td>1.476</td>\n",
       "      <td>0.775</td>\n",
       "      <td>0.054</td>\n",
       "      <td>0.155</td>\n",
       "      <td>...</td>\n",
       "      <td>0.502</td>\n",
       "      <td>1.007</td>\n",
       "      <td>0.901</td>\n",
       "      <td>0.122</td>\n",
       "      <td>0.247</td>\n",
       "      <td>0.217</td>\n",
       "      <td>0.282</td>\n",
       "      <td>0.874</td>\n",
       "      <td>0.170</td>\n",
       "      <td>0.101</td>\n",
       "    </tr>\n",
       "    <tr>\n",
       "      <th>2013-12-31 21:00:00</th>\n",
       "      <td>0.783</td>\n",
       "      <td>0.120</td>\n",
       "      <td>0.178</td>\n",
       "      <td>0.209</td>\n",
       "      <td>0.209</td>\n",
       "      <td>1.000</td>\n",
       "      <td>1.647</td>\n",
       "      <td>0.906</td>\n",
       "      <td>0.101</td>\n",
       "      <td>0.556</td>\n",
       "      <td>...</td>\n",
       "      <td>0.504</td>\n",
       "      <td>1.193</td>\n",
       "      <td>1.073</td>\n",
       "      <td>0.109</td>\n",
       "      <td>0.270</td>\n",
       "      <td>0.279</td>\n",
       "      <td>0.294</td>\n",
       "      <td>0.802</td>\n",
       "      <td>0.220</td>\n",
       "      <td>0.104</td>\n",
       "    </tr>\n",
       "    <tr>\n",
       "      <th>2013-12-31 20:00:00</th>\n",
       "      <td>1.233</td>\n",
       "      <td>0.140</td>\n",
       "      <td>0.000</td>\n",
       "      <td>0.286</td>\n",
       "      <td>0.218</td>\n",
       "      <td>0.643</td>\n",
       "      <td>2.589</td>\n",
       "      <td>1.314</td>\n",
       "      <td>0.000</td>\n",
       "      <td>0.670</td>\n",
       "      <td>...</td>\n",
       "      <td>0.712</td>\n",
       "      <td>0.740</td>\n",
       "      <td>1.324</td>\n",
       "      <td>0.072</td>\n",
       "      <td>0.378</td>\n",
       "      <td>0.267</td>\n",
       "      <td>0.263</td>\n",
       "      <td>0.774</td>\n",
       "      <td>0.221</td>\n",
       "      <td>0.112</td>\n",
       "    </tr>\n",
       "    <tr>\n",
       "      <th>2013-12-31 19:00:00</th>\n",
       "      <td>0.559</td>\n",
       "      <td>0.221</td>\n",
       "      <td>0.169</td>\n",
       "      <td>0.281</td>\n",
       "      <td>0.227</td>\n",
       "      <td>1.383</td>\n",
       "      <td>2.574</td>\n",
       "      <td>1.229</td>\n",
       "      <td>0.030</td>\n",
       "      <td>0.656</td>\n",
       "      <td>...</td>\n",
       "      <td>1.039</td>\n",
       "      <td>0.891</td>\n",
       "      <td>1.371</td>\n",
       "      <td>0.158</td>\n",
       "      <td>0.540</td>\n",
       "      <td>0.216</td>\n",
       "      <td>0.649</td>\n",
       "      <td>0.928</td>\n",
       "      <td>0.220</td>\n",
       "      <td>0.227</td>\n",
       "    </tr>\n",
       "  </tbody>\n",
       "</table>\n",
       "<p>5 rows × 4125 columns</p>\n",
       "</div>"
      ],
      "text/plain": [
       "                         0      1      2      3      4      5      6      7  \\\n",
       "timestamp                                                                     \n",
       "2013-12-31 23:00:00  0.943  0.149  0.157  0.282  0.113  0.722  1.701  0.839   \n",
       "2013-12-31 22:00:00  0.858  0.484  0.000  0.467  0.154  0.732  1.476  0.775   \n",
       "2013-12-31 21:00:00  0.783  0.120  0.178  0.209  0.209  1.000  1.647  0.906   \n",
       "2013-12-31 20:00:00  1.233  0.140  0.000  0.286  0.218  0.643  2.589  1.314   \n",
       "2013-12-31 19:00:00  0.559  0.221  0.169  0.281  0.227  1.383  2.574  1.229   \n",
       "\n",
       "                         8      9  ...   4115   4116   4117   4118   4119  \\\n",
       "timestamp                          ...                                      \n",
       "2013-12-31 23:00:00  0.000  0.218  ...  1.723  0.304  0.946  0.108  0.181   \n",
       "2013-12-31 22:00:00  0.054  0.155  ...  0.502  1.007  0.901  0.122  0.247   \n",
       "2013-12-31 21:00:00  0.101  0.556  ...  0.504  1.193  1.073  0.109  0.270   \n",
       "2013-12-31 20:00:00  0.000  0.670  ...  0.712  0.740  1.324  0.072  0.378   \n",
       "2013-12-31 19:00:00  0.030  0.656  ...  1.039  0.891  1.371  0.158  0.540   \n",
       "\n",
       "                      4120   4121   4122   4123   4124  \n",
       "timestamp                                               \n",
       "2013-12-31 23:00:00  0.218  0.187  1.000  0.168  0.119  \n",
       "2013-12-31 22:00:00  0.217  0.282  0.874  0.170  0.101  \n",
       "2013-12-31 21:00:00  0.279  0.294  0.802  0.220  0.104  \n",
       "2013-12-31 20:00:00  0.267  0.263  0.774  0.221  0.112  \n",
       "2013-12-31 19:00:00  0.216  0.649  0.928  0.220  0.227  \n",
       "\n",
       "[5 rows x 4125 columns]"
      ]
     },
     "execution_count": 3,
     "metadata": {},
     "output_type": "execute_result"
    }
   ],
   "source": [
    "df.sort_values(by=['timestamp'], inplace=True, ascending=False)\n",
    "df.head()"
   ]
  },
  {
   "cell_type": "code",
   "execution_count": null,
   "id": "d8f10161-c760-4211-8e02-3c38f3b2b213",
   "metadata": {},
   "outputs": [],
   "source": []
  },
  {
   "cell_type": "code",
   "execution_count": 4,
   "id": "2086d6a8-4405-4f9e-8721-653eeb0eede7",
   "metadata": {},
   "outputs": [],
   "source": [
    "import matplotlib\n",
    "import matplotlib.pyplot as plt"
   ]
  },
  {
   "cell_type": "code",
   "execution_count": 5,
   "id": "0d5f34fb-1a58-49f8-a5c4-6842c540fb03",
   "metadata": {},
   "outputs": [
    {
     "data": {
      "text/plain": [
       "[<matplotlib.lines.Line2D at 0x7fc479d4d930>]"
      ]
     },
     "execution_count": 5,
     "metadata": {},
     "output_type": "execute_result"
    },
    {
     "data": {
      "image/png": "[encoded data removed]",
      "text/plain": [
       "<Figure size 640x480 with 1 Axes>"
      ]
     },
     "metadata": {},
     "output_type": "display_data"
    }
   ],
   "source": [
    "plt.plot(df[\"1\"])"
   ]
  },
  {
   "cell_type": "code",
   "execution_count": 6,
   "id": "36ee2051-07d4-4fec-9b53-89d9d7e01da4",
   "metadata": {},
   "outputs": [
    {
     "name": "stderr",
     "output_type": "stream",
     "text": [
      "2025-02-23 10:51:40.192091: E external/local_xla/xla/stream_executor/cuda/cuda_dnn.cc:9261] Unable to register cuDNN factory: Attempting to register factory for plugin cuDNN when one has already been registered\n",
      "2025-02-23 10:51:40.192170: E external/local_xla/xla/stream_executor/cuda/cuda_fft.cc:607] Unable to register cuFFT factory: Attempting to register factory for plugin cuFFT when one has already been registered\n",
      "2025-02-23 10:51:40.192770: E external/local_xla/xla/stream_executor/cuda/cuda_blas.cc:1515] Unable to register cuBLAS factory: Attempting to register factory for plugin cuBLAS when one has already been registered\n",
      "2025-02-23 10:51:40.196575: I tensorflow/core/platform/cpu_feature_guard.cc:182] This TensorFlow binary is optimized to use available CPU instructions in performance-critical operations.\n",
      "To enable the following instructions: SSE4.1 SSE4.2 AVX AVX2 FMA, in other operations, rebuild TensorFlow with the appropriate compiler flags.\n"
     ]
    }
   ],
   "source": [
    "import pandas as pd\n",
    "import numpy as np\n",
    "from sklearn.preprocessing import MinMaxScaler\n",
    "import tensorflow as tf\n",
    "from pathlib import Path\n",
    "from tqdm import tqdm\n",
    "from tensorflow.keras.models import Sequential, Model\n",
    "from tensorflow.keras.layers import GRU, Dense, RNN, GRUCell, Input\n",
    "from tensorflow.keras.losses import BinaryCrossentropy, MeanSquaredError\n",
    "from tensorflow.keras.optimizers import Adam\n",
    "from tensorflow.keras.optimizers import RMSprop\n",
    "from tensorflow.keras.callbacks import TensorBoard\n",
    "from tensorflow.keras.utils import plot_model\n",
    "import matplotlib.pyplot as plt\n",
    "import seaborn as sns"
   ]
  },
  {
   "cell_type": "markdown",
   "id": "0b59b870-6059-46e1-8649-8df0a517a98d",
   "metadata": {},
   "source": [
    "SC04\n",
    "\n",
    "Opt  L_rate Norm Momentum Decay Batch Size\n",
    "Adam 0.001  Yes  Default  0.0   24"
   ]
  },
  {
   "cell_type": "code",
   "execution_count": 7,
   "id": "013929fe-83e5-4ccc-bada-321217f83f7d",
   "metadata": {},
   "outputs": [
    {
     "name": "stdout",
     "output_type": "stream",
     "text": [
      "Using GPU\n"
     ]
    }
   ],
   "source": [
    "gpu_devices = tf.config.experimental.list_physical_devices('GPU')\n",
    "if gpu_devices:\n",
    "    print('Using GPU')\n",
    "    tf.config.experimental.set_memory_growth(gpu_devices[0], True)\n",
    "else:\n",
    "    print('Using CPU')\n",
    "\n"
   ]
  },
  {
   "cell_type": "code",
   "execution_count": 8,
   "id": "fffdd06e-ffca-4013-bc78-b3fa0d3fd2ba",
   "metadata": {},
   "outputs": [],
   "source": [
    "results_path = Path('4.2v2_time_gan')\n",
    "results_path.mkdir()"
   ]
  },
  {
   "cell_type": "code",
   "execution_count": 9,
   "id": "b1e664e9-fa2b-40d3-9680-ea5adbe25aa6",
   "metadata": {},
   "outputs": [],
   "source": [
    "experiment = 0"
   ]
  },
  {
   "cell_type": "code",
   "execution_count": 10,
   "id": "27b9f088-551f-4b27-861f-790cd2eb752b",
   "metadata": {},
   "outputs": [],
   "source": [
    "log_dir = results_path / f'experiment_{experiment:02}'\n",
    "if not log_dir.exists():\n",
    "    log_dir.mkdir(parents=True)"
   ]
  },
  {
   "cell_type": "code",
   "execution_count": 11,
   "id": "4c343d8a-2b71-4c20-a9d7-2eda1bab9620",
   "metadata": {},
   "outputs": [],
   "source": [
    "### hdf_store = results_path / 'TimeSeriesGAN.h5'"
   ]
  },
  {
   "cell_type": "code",
   "execution_count": 12,
   "id": "af1ca6c2-c15a-42ec-8b74-f1fceb16211c",
   "metadata": {},
   "outputs": [],
   "source": [
    "#df.loc[1:2, 1:2]\n",
    "# df = df.iloc[:,1:]"
   ]
  },
  {
   "cell_type": "code",
   "execution_count": 13,
   "id": "eebda9a5-53cf-414e-86a6-a75a3b4f0fec",
   "metadata": {},
   "outputs": [
    {
     "data": {
      "text/plain": [
       "(8760, 4125)"
      ]
     },
     "execution_count": 13,
     "metadata": {},
     "output_type": "execute_result"
    }
   ],
   "source": [
    "df.shape"
   ]
  },
  {
   "cell_type": "code",
   "execution_count": 14,
   "id": "98559591-a0b6-4731-84e8-6873d872f976",
   "metadata": {},
   "outputs": [],
   "source": [
    "seq_len = 24\n",
    "n_seq = 4125\n",
    "batch_size = 64"
   ]
  },
  {
   "cell_type": "code",
   "execution_count": 15,
   "id": "fa0249ae-a953-4b9f-8daa-b9dc2737534f",
   "metadata": {},
   "outputs": [],
   "source": [
    "scaler = MinMaxScaler()\n",
    "scaled_data = scaler.fit_transform(df).astype(np.float32)"
   ]
  },
  {
   "cell_type": "code",
   "execution_count": 16,
   "id": "600a864a-254c-4f7d-9c11-518e29b39b62",
   "metadata": {},
   "outputs": [],
   "source": [
    "data = []\n",
    "for i in range(len(df) - seq_len):\n",
    "    data.append(scaled_data[i:i + seq_len])\n",
    "\n",
    "n_windows = len(data)"
   ]
  },
  {
   "cell_type": "code",
   "execution_count": 17,
   "id": "05708288-87a9-452f-bd55-0fb188ed4c46",
   "metadata": {},
   "outputs": [
    {
     "name": "stderr",
     "output_type": "stream",
     "text": [
      "2025-02-23 10:51:44.869063: I tensorflow/core/common_runtime/gpu/gpu_device.cc:1929] Created device /job:localhost/replica:0/task:0/device:GPU:0 with 38374 MB memory:  -> device: 0, name: NVIDIA A100-PCIE-40GB, pci bus id: 0000:01:00.0, compute capability: 8.0\n"
     ]
    }
   ],
   "source": [
    "real_series = (tf.data.Dataset\n",
    "               .from_tensor_slices(data)\n",
    "               .shuffle(buffer_size=n_windows)\n",
    "               .batch(batch_size))\n"
   ]
  },
  {
   "cell_type": "code",
   "execution_count": 18,
   "id": "07d70904-ec5d-4b6f-82c2-01497f443656",
   "metadata": {},
   "outputs": [],
   "source": [
    "real_series_iter = iter(real_series.repeat())"
   ]
  },
  {
   "cell_type": "code",
   "execution_count": 19,
   "id": "e5853920-b7ce-4ba1-aaa4-48a205e238f1",
   "metadata": {},
   "outputs": [],
   "source": [
    "def make_random_data():\n",
    "    while True:\n",
    "        yield np.random.uniform(low=0, high=1, size=(seq_len, n_seq))"
   ]
  },
  {
   "cell_type": "code",
   "execution_count": 20,
   "id": "6323c6e6-c94e-4a00-877f-ac1f44bcbcd2",
   "metadata": {},
   "outputs": [],
   "source": [
    "random_series = iter(tf.data.Dataset\n",
    "                     .from_generator(make_random_data, output_types=tf.float32)\n",
    "                     .batch(batch_size)\n",
    "                     .repeat())"
   ]
  },
  {
   "cell_type": "code",
   "execution_count": 21,
   "id": "2c824b97-f931-422b-8ad8-0595baeca31b",
   "metadata": {},
   "outputs": [],
   "source": [
    "hidden_dim = 24\n",
    "num_layers = 3"
   ]
  },
  {
   "cell_type": "code",
   "execution_count": 22,
   "id": "be873476-0529-445f-b24e-e5a65f3ab999",
   "metadata": {},
   "outputs": [],
   "source": [
    "writer = tf.summary.create_file_writer(log_dir.as_posix())"
   ]
  },
  {
   "cell_type": "code",
   "execution_count": 23,
   "id": "9e535b5b-b0d9-4757-838d-af8291762857",
   "metadata": {},
   "outputs": [],
   "source": [
    "X = Input(shape=[seq_len, n_seq], name='RealData')\n",
    "Z = Input(shape=[seq_len, n_seq], name='RandomData')"
   ]
  },
  {
   "cell_type": "code",
   "execution_count": 24,
   "id": "09126dd9-57da-40fa-80f0-b51be7ffd63e",
   "metadata": {},
   "outputs": [],
   "source": [
    "def make_rnn(n_layers, hidden_units, output_units, name):\n",
    "    return Sequential([GRU(units=hidden_units,\n",
    "                           return_sequences=True,\n",
    "                           name=f'GRU_{i + 1}') for i in range(n_layers)] +\n",
    "                      [Dense(units=output_units,\n",
    "                             activation='sigmoid',\n",
    "                             name='OUT')], name=name)"
   ]
  },
  {
   "cell_type": "code",
   "execution_count": 25,
   "id": "2e044cf0-9e3a-4c45-bdb7-bc94fe620291",
   "metadata": {},
   "outputs": [],
   "source": [
    "embedder = make_rnn(n_layers=3, \n",
    "                    hidden_units=hidden_dim, \n",
    "                    output_units=hidden_dim, \n",
    "                    name='Embedder')\n",
    "recovery = make_rnn(n_layers=3, \n",
    "                    hidden_units=hidden_dim, \n",
    "                    output_units=n_seq, \n",
    "                    name='Recovery')"
   ]
  },
  {
   "cell_type": "code",
   "execution_count": 26,
   "id": "859e55f0-2489-4a6d-ab66-898ec94cabb3",
   "metadata": {},
   "outputs": [],
   "source": [
    "generator = make_rnn(n_layers=3, \n",
    "                     hidden_units=hidden_dim, \n",
    "                     output_units=hidden_dim, \n",
    "                     name='Generator')\n",
    "discriminator = make_rnn(n_layers=3, \n",
    "                         hidden_units=hidden_dim, \n",
    "                         output_units=1, \n",
    "                         name='Discriminator')\n",
    "supervisor = make_rnn(n_layers=2, \n",
    "                      hidden_units=hidden_dim, \n",
    "                      output_units=hidden_dim, \n",
    "                      name='Supervisor')"
   ]
  },
  {
   "cell_type": "code",
   "execution_count": 27,
   "id": "ea135516-44e3-4b5c-a668-d1c7d18c8184",
   "metadata": {},
   "outputs": [],
   "source": [
    "train_steps = 1500\n",
    "gamma = 1\n",
    "\n",
    "mse = MeanSquaredError()\n",
    "bce = BinaryCrossentropy()"
   ]
  },
  {
   "cell_type": "code",
   "execution_count": 28,
   "id": "0ba86412-0b0b-433e-b2f5-f4df69445e42",
   "metadata": {},
   "outputs": [],
   "source": [
    "H = embedder(X)\n",
    "X_tilde = recovery(H)\n",
    "\n",
    "autoencoder = Model(inputs=X,\n",
    "                    outputs=X_tilde,\n",
    "                    name='Autoencoder')"
   ]
  },
  {
   "cell_type": "code",
   "execution_count": 29,
   "id": "773d5a62-ee70-4664-8b5a-fba6330a0f63",
   "metadata": {},
   "outputs": [
    {
     "name": "stdout",
     "output_type": "stream",
     "text": [
      "Model: \"Autoencoder\"\n",
      "_________________________________________________________________\n",
      " Layer (type)                Output Shape              Param #   \n",
      "=================================================================\n",
      " RealData (InputLayer)       [(None, 24, 4125)]        0         \n",
      "                                                                 \n",
      " Embedder (Sequential)       (None, 24, 24)            306672    \n",
      "                                                                 \n",
      " Recovery (Sequential)       (None, 24, 4125)          113925    \n",
      "                                                                 \n",
      "=================================================================\n",
      "Total params: 420597 (1.60 MB)\n",
      "Trainable params: 420597 (1.60 MB)\n",
      "Non-trainable params: 0 (0.00 Byte)\n",
      "_________________________________________________________________\n"
     ]
    }
   ],
   "source": [
    "autoencoder.summary()"
   ]
  },
  {
   "cell_type": "code",
   "execution_count": 30,
   "id": "77b058e6-d871-411a-ad3e-5f6b10c4878b",
   "metadata": {},
   "outputs": [
    {
     "data": {
      "image/png": "[encoded data removed]",
      "text/plain": [
       "<IPython.core.display.Image object>"
      ]
     },
     "execution_count": 30,
     "metadata": {},
     "output_type": "execute_result"
    }
   ],
   "source": [
    "plot_model(autoencoder,\n",
    "           to_file=(results_path / 'autoencoder.png').as_posix(),\n",
    "           show_shapes=True)"
   ]
  },
  {
   "cell_type": "code",
   "execution_count": 31,
   "id": "9f4f8a73-4ed1-4cc2-a525-df1755b23e43",
   "metadata": {},
   "outputs": [],
   "source": [
    "autoencoder_optimizer = RMSprop(learning_rate=0.001, weight_decay=0.9)"
   ]
  },
  {
   "cell_type": "code",
   "execution_count": 32,
   "id": "5ec7e00e-d891-410a-b5b5-8c7cdcaed058",
   "metadata": {},
   "outputs": [],
   "source": [
    "@tf.function\n",
    "def train_autoencoder_init(x):\n",
    "    with tf.GradientTape() as tape:\n",
    "        x_tilde = autoencoder(x)\n",
    "        embedding_loss_t0 = mse(x, x_tilde)\n",
    "        e_loss_0 = 10 * tf.sqrt(embedding_loss_t0)\n",
    "\n",
    "    var_list = embedder.trainable_variables + recovery.trainable_variables\n",
    "    gradients = tape.gradient(e_loss_0, var_list)\n",
    "    autoencoder_optimizer.apply_gradients(zip(gradients, var_list))\n",
    "    return tf.sqrt(embedding_loss_t0)"
   ]
  },
  {
   "cell_type": "code",
   "execution_count": 33,
   "id": "2669b143-4157-40d8-bb9f-b896094b5321",
   "metadata": {},
   "outputs": [
    {
     "name": "stderr",
     "output_type": "stream",
     "text": [
      "  0%|          | 0/1500 [00:00<?, ?it/s]2025-02-23 10:52:47.675113: I external/local_xla/xla/stream_executor/cuda/cuda_dnn.cc:454] Loaded cuDNN version 8907\n",
      "2025-02-23 10:52:48.180906: I external/local_xla/xla/service/service.cc:168] XLA service 0x7fbee04580e0 initialized for platform CUDA (this does not guarantee that XLA will be used). Devices:\n",
      "2025-02-23 10:52:48.180954: I external/local_xla/xla/service/service.cc:176]   StreamExecutor device (0): NVIDIA A100-PCIE-40GB, Compute Capability 8.0\n",
      "2025-02-23 10:52:48.185409: I tensorflow/compiler/mlir/tensorflow/utils/dump_mlir_util.cc:269] disabling MLIR crash reproducer, set env var `MLIR_CRASH_REPRODUCER_DIRECTORY` to enable.\n",
      "WARNING: All log messages before absl::InitializeLog() is called are written to STDERR\n",
      "I0000 00:00:1740304368.271162 2677982 device_compiler.h:186] Compiled cluster using XLA!  This line is logged at most once for the lifetime of the process.\n",
      "100%|██████████| 1500/1500 [00:23<00:00, 64.78it/s] \n"
     ]
    }
   ],
   "source": [
    "for step in tqdm(range(train_steps)):\n",
    "    X_ = next(real_series_iter)\n",
    "    step_e_loss_t0 = train_autoencoder_init(X_)\n",
    "    with writer.as_default():\n",
    "        tf.summary.scalar('Loss Autoencoder Init', step_e_loss_t0, step=step)"
   ]
  },
  {
   "cell_type": "code",
   "execution_count": 34,
   "id": "4202e87a-1069-4cb3-9fcc-c1e9cd7edc57",
   "metadata": {},
   "outputs": [],
   "source": [
    "supervisor_optimizer = RMSprop(learning_rate=0.001, weight_decay=0.9)"
   ]
  },
  {
   "cell_type": "code",
   "execution_count": 35,
   "id": "cbe38fb8-db1b-4459-8645-2242a16d44d9",
   "metadata": {},
   "outputs": [],
   "source": [
    "@tf.function\n",
    "def train_supervisor(x):\n",
    "    with tf.GradientTape() as tape:\n",
    "        h = embedder(x)\n",
    "        h_hat_supervised = supervisor(h)\n",
    "        g_loss_s = mse(h[:, 1:, :], h_hat_supervised[:, :-1, :])\n",
    "\n",
    "    var_list = supervisor.trainable_variables\n",
    "    gradients = tape.gradient(g_loss_s, var_list)\n",
    "    supervisor_optimizer.apply_gradients(zip(gradients, var_list))\n",
    "    return g_loss_s"
   ]
  },
  {
   "cell_type": "code",
   "execution_count": 36,
   "id": "53da5b19-5ac1-4a9e-b7ae-4d6f35784b79",
   "metadata": {},
   "outputs": [
    {
     "name": "stderr",
     "output_type": "stream",
     "text": [
      "100%|██████████| 1500/1500 [00:15<00:00, 95.00it/s] \n"
     ]
    }
   ],
   "source": [
    "for step in tqdm(range(train_steps)):\n",
    "    X_ = next(real_series_iter)\n",
    "    step_g_loss_s = train_supervisor(X_)\n",
    "    with writer.as_default():\n",
    "        tf.summary.scalar('Loss Generator Supervised Init', step_g_loss_s, step=step)"
   ]
  },
  {
   "cell_type": "markdown",
   "id": "f8759b46-145a-4e38-a05d-a292b9871330",
   "metadata": {},
   "source": [
    "###  Joint Training"
   ]
  },
  {
   "cell_type": "markdown",
   "id": "2eb0e2cd-94d1-4f63-b045-97632cd170d2",
   "metadata": {},
   "source": [
    "##   Generator"
   ]
  },
  {
   "cell_type": "code",
   "execution_count": 37,
   "id": "effd36dd-1c4b-4988-b9c4-c095c03b1d81",
   "metadata": {},
   "outputs": [],
   "source": [
    "E_hat = generator(Z)\n",
    "H_hat = supervisor(E_hat)\n",
    "Y_fake = discriminator(H_hat)\n",
    "\n",
    "adversarial_supervised = Model(inputs=Z,\n",
    "                               outputs=Y_fake,\n",
    "                               name='AdversarialNetSupervised')"
   ]
  },
  {
   "cell_type": "code",
   "execution_count": 38,
   "id": "c6af66b2-8bec-4c24-8b31-c3e5ef6a80f6",
   "metadata": {},
   "outputs": [
    {
     "name": "stdout",
     "output_type": "stream",
     "text": [
      "Model: \"AdversarialNetSupervised\"\n",
      "_________________________________________________________________\n",
      " Layer (type)                Output Shape              Param #   \n",
      "=================================================================\n",
      " RandomData (InputLayer)     [(None, 24, 4125)]        0         \n",
      "                                                                 \n",
      " Generator (Sequential)      (None, 24, 24)            306672    \n",
      "                                                                 \n",
      " Supervisor (Sequential)     (None, 24, 24)            7800      \n",
      "                                                                 \n",
      " Discriminator (Sequential)  (None, 24, 1)             10825     \n",
      "                                                                 \n",
      "=================================================================\n",
      "Total params: 325297 (1.24 MB)\n",
      "Trainable params: 325297 (1.24 MB)\n",
      "Non-trainable params: 0 (0.00 Byte)\n",
      "_________________________________________________________________\n"
     ]
    }
   ],
   "source": [
    "adversarial_supervised.summary()"
   ]
  },
  {
   "cell_type": "code",
   "execution_count": 39,
   "id": "04f629bb-0c20-4c01-855d-ce4be2f4630a",
   "metadata": {},
   "outputs": [
    {
     "data": {
      "image/png": "[encoded data removed]",
      "text/plain": [
       "<IPython.core.display.Image object>"
      ]
     },
     "execution_count": 39,
     "metadata": {},
     "output_type": "execute_result"
    }
   ],
   "source": [
    "plot_model(adversarial_supervised, show_shapes=True)"
   ]
  },
  {
   "cell_type": "code",
   "execution_count": 40,
   "id": "ba69f3ee-09e3-4a3c-8022-4bbb6455db9b",
   "metadata": {},
   "outputs": [],
   "source": [
    "Y_fake_e = discriminator(E_hat)\n",
    "\n",
    "adversarial_emb = Model(inputs=Z,\n",
    "                    outputs=Y_fake_e,\n",
    "                    name='AdversarialNet')"
   ]
  },
  {
   "cell_type": "code",
   "execution_count": 41,
   "id": "529a93c3-874c-428d-b19a-2d60c270478c",
   "metadata": {},
   "outputs": [
    {
     "name": "stdout",
     "output_type": "stream",
     "text": [
      "Model: \"AdversarialNet\"\n",
      "_________________________________________________________________\n",
      " Layer (type)                Output Shape              Param #   \n",
      "=================================================================\n",
      " RandomData (InputLayer)     [(None, 24, 4125)]        0         \n",
      "                                                                 \n",
      " Generator (Sequential)      (None, 24, 24)            306672    \n",
      "                                                                 \n",
      " Discriminator (Sequential)  (None, 24, 1)             10825     \n",
      "                                                                 \n",
      "=================================================================\n",
      "Total params: 317497 (1.21 MB)\n",
      "Trainable params: 317497 (1.21 MB)\n",
      "Non-trainable params: 0 (0.00 Byte)\n",
      "_________________________________________________________________\n"
     ]
    }
   ],
   "source": [
    "adversarial_emb.summary()"
   ]
  },
  {
   "cell_type": "code",
   "execution_count": 42,
   "id": "65f0c181-a5fd-49fc-b4d0-6308c6daf2fb",
   "metadata": {},
   "outputs": [
    {
     "data": {
      "image/png": "[encoded data removed]",
      "text/plain": [
       "<IPython.core.display.Image object>"
      ]
     },
     "execution_count": 42,
     "metadata": {},
     "output_type": "execute_result"
    }
   ],
   "source": [
    "plot_model(adversarial_emb, show_shapes=True)"
   ]
  },
  {
   "cell_type": "code",
   "execution_count": 43,
   "id": "d854c86a-069a-4e68-aced-f0769628e0ca",
   "metadata": {},
   "outputs": [],
   "source": [
    "X_hat = recovery(H_hat)\n",
    "synthetic_data = Model(inputs=Z,\n",
    "                       outputs=X_hat,\n",
    "                       name='SyntheticData')"
   ]
  },
  {
   "cell_type": "code",
   "execution_count": 44,
   "id": "edf7f969-dabe-40ab-8e89-1b6a54e88dfd",
   "metadata": {},
   "outputs": [
    {
     "name": "stdout",
     "output_type": "stream",
     "text": [
      "Model: \"SyntheticData\"\n",
      "_________________________________________________________________\n",
      " Layer (type)                Output Shape              Param #   \n",
      "=================================================================\n",
      " RandomData (InputLayer)     [(None, 24, 4125)]        0         \n",
      "                                                                 \n",
      " Generator (Sequential)      (None, 24, 24)            306672    \n",
      "                                                                 \n",
      " Supervisor (Sequential)     (None, 24, 24)            7800      \n",
      "                                                                 \n",
      " Recovery (Sequential)       (None, 24, 4125)          113925    \n",
      "                                                                 \n",
      "=================================================================\n",
      "Total params: 428397 (1.63 MB)\n",
      "Trainable params: 428397 (1.63 MB)\n",
      "Non-trainable params: 0 (0.00 Byte)\n",
      "_________________________________________________________________\n"
     ]
    }
   ],
   "source": [
    "synthetic_data.summary()"
   ]
  },
  {
   "cell_type": "code",
   "execution_count": 45,
   "id": "e5ff701e-495c-4b7d-ae99-2034b60625fa",
   "metadata": {},
   "outputs": [
    {
     "data": {
      "image/png": "[encoded data removed]",
      "text/plain": [
       "<IPython.core.display.Image object>"
      ]
     },
     "execution_count": 45,
     "metadata": {},
     "output_type": "execute_result"
    }
   ],
   "source": [
    "plot_model(synthetic_data, show_shapes=True)"
   ]
  },
  {
   "cell_type": "code",
   "execution_count": 46,
   "id": "6402a79f-c561-4747-b683-124ef7481dd4",
   "metadata": {},
   "outputs": [],
   "source": [
    "def get_generator_moment_loss(y_true, y_pred):\n",
    "    y_true_mean, y_true_var = tf.nn.moments(x=y_true, axes=[0])\n",
    "    y_pred_mean, y_pred_var = tf.nn.moments(x=y_pred, axes=[0])\n",
    "    g_loss_mean = tf.reduce_mean(tf.abs(y_true_mean - y_pred_mean))\n",
    "    g_loss_var = tf.reduce_mean(tf.abs(tf.sqrt(y_true_var + 1e-6) - tf.sqrt(y_pred_var + 1e-6)))\n",
    "    return g_loss_mean + g_loss_var"
   ]
  },
  {
   "cell_type": "markdown",
   "id": "f4d5e350-8b46-49fc-9997-7d3f983cb32e",
   "metadata": {},
   "source": [
    "##  Discriminator"
   ]
  },
  {
   "cell_type": "code",
   "execution_count": 47,
   "id": "7dfe9aa6-a1b5-4f30-9164-7ff651502c80",
   "metadata": {},
   "outputs": [],
   "source": [
    "Y_real = discriminator(H)\n",
    "discriminator_model = Model(inputs=X,\n",
    "                            outputs=Y_real,\n",
    "                            name='DiscriminatorReal')"
   ]
  },
  {
   "cell_type": "code",
   "execution_count": 48,
   "id": "f53cb23a-5a87-420d-9f84-fbe7329870a9",
   "metadata": {},
   "outputs": [
    {
     "name": "stdout",
     "output_type": "stream",
     "text": [
      "Model: \"DiscriminatorReal\"\n",
      "_________________________________________________________________\n",
      " Layer (type)                Output Shape              Param #   \n",
      "=================================================================\n",
      " RealData (InputLayer)       [(None, 24, 4125)]        0         \n",
      "                                                                 \n",
      " Embedder (Sequential)       (None, 24, 24)            306672    \n",
      "                                                                 \n",
      " Discriminator (Sequential)  (None, 24, 1)             10825     \n",
      "                                                                 \n",
      "=================================================================\n",
      "Total params: 317497 (1.21 MB)\n",
      "Trainable params: 317497 (1.21 MB)\n",
      "Non-trainable params: 0 (0.00 Byte)\n",
      "_________________________________________________________________\n"
     ]
    }
   ],
   "source": [
    "discriminator_model.summary()"
   ]
  },
  {
   "cell_type": "code",
   "execution_count": 49,
   "id": "9e7ad349-cb3a-46ec-881d-bfc65f8fd9a2",
   "metadata": {},
   "outputs": [
    {
     "data": {
      "image/png": "[encoded data removed]",
      "text/plain": [
       "<IPython.core.display.Image object>"
      ]
     },
     "execution_count": 49,
     "metadata": {},
     "output_type": "execute_result"
    }
   ],
   "source": [
    "plot_model(discriminator_model, show_shapes=True)"
   ]
  },
  {
   "cell_type": "code",
   "execution_count": 50,
   "id": "fdcd9a0b-903f-4d02-9b0d-23bb003af684",
   "metadata": {},
   "outputs": [],
   "source": [
    "generator_optimizer = RMSprop(learning_rate=0.001, weight_decay=0.9)\n",
    "discriminator_optimizer = RMSprop(learning_rate=0.001, weight_decay=0.9)\n",
    "embedding_optimizer = RMSprop(learning_rate=0.001, weight_decay=0.9)"
   ]
  },
  {
   "cell_type": "markdown",
   "id": "909d8f4b-37dc-45f6-b581-ed3c33046fe8",
   "metadata": {},
   "source": [
    "##  Generator Train Step"
   ]
  },
  {
   "cell_type": "code",
   "execution_count": 51,
   "id": "0ea8808e-5481-4d79-98a4-868d28813b38",
   "metadata": {},
   "outputs": [],
   "source": [
    "@tf.function\n",
    "def train_generator(x, z):\n",
    "    with tf.GradientTape() as tape:\n",
    "        y_fake = adversarial_supervised(z)\n",
    "        generator_loss_unsupervised = bce(y_true=tf.ones_like(y_fake),\n",
    "                                          y_pred=y_fake)\n",
    "\n",
    "        y_fake_e = adversarial_emb(z)\n",
    "        generator_loss_unsupervised_e = bce(y_true=tf.ones_like(y_fake_e),\n",
    "                                            y_pred=y_fake_e)\n",
    "        h = embedder(x)\n",
    "        h_hat_supervised = supervisor(h)\n",
    "        generator_loss_supervised = mse(h[:, 1:, :], h_hat_supervised[:, 1:, :])\n",
    "\n",
    "        x_hat = synthetic_data(z)\n",
    "        generator_moment_loss = get_generator_moment_loss(x, x_hat)\n",
    "\n",
    "        generator_loss = (generator_loss_unsupervised +\n",
    "                          generator_loss_unsupervised_e +\n",
    "                          100 * tf.sqrt(generator_loss_supervised) +\n",
    "                          100 * generator_moment_loss)\n",
    "\n",
    "    var_list = generator.trainable_variables + supervisor.trainable_variables\n",
    "    gradients = tape.gradient(generator_loss, var_list)\n",
    "    generator_optimizer.apply_gradients(zip(gradients, var_list))\n",
    "    return generator_loss_unsupervised, generator_loss_supervised, generator_moment_loss"
   ]
  },
  {
   "cell_type": "markdown",
   "id": "a1fe804b-f033-4688-90c0-cfb321b6ae35",
   "metadata": {},
   "source": [
    "### Embedding Train Step"
   ]
  },
  {
   "cell_type": "code",
   "execution_count": 52,
   "id": "707748f5-bea4-46f6-bedb-74339f88e21d",
   "metadata": {},
   "outputs": [],
   "source": [
    "@tf.function\n",
    "def train_embedder(x):\n",
    "    with tf.GradientTape() as tape:\n",
    "        h = embedder(x)\n",
    "        h_hat_supervised = supervisor(h)\n",
    "        generator_loss_supervised = mse(h[:, 1:, :], h_hat_supervised[:, 1:, :])\n",
    "\n",
    "        x_tilde = autoencoder(x)\n",
    "        embedding_loss_t0 = mse(x, x_tilde)\n",
    "        e_loss = 10 * tf.sqrt(embedding_loss_t0) + 0.1 * generator_loss_supervised\n",
    "\n",
    "    var_list = embedder.trainable_variables + recovery.trainable_variables\n",
    "    gradients = tape.gradient(e_loss, var_list)\n",
    "    embedding_optimizer.apply_gradients(zip(gradients, var_list))\n",
    "    return tf.sqrt(embedding_loss_t0)"
   ]
  },
  {
   "cell_type": "markdown",
   "id": "9b1a3f47-9320-4af8-960e-90ca71268270",
   "metadata": {},
   "source": [
    "###  Discriminator Train Step"
   ]
  },
  {
   "cell_type": "code",
   "execution_count": 53,
   "id": "6ecd16c8-e3fa-49bf-bae1-dc699e29b062",
   "metadata": {},
   "outputs": [],
   "source": [
    "@tf.function\n",
    "def get_discriminator_loss(x, z):\n",
    "    y_real = discriminator_model(x)\n",
    "    discriminator_loss_real = bce(y_true=tf.ones_like(y_real),\n",
    "                                  y_pred=y_real)\n",
    "\n",
    "    y_fake = adversarial_supervised(z)\n",
    "    discriminator_loss_fake = bce(y_true=tf.zeros_like(y_fake),\n",
    "                                  y_pred=y_fake)\n",
    "\n",
    "    y_fake_e = adversarial_emb(z)\n",
    "    discriminator_loss_fake_e = bce(y_true=tf.zeros_like(y_fake_e),\n",
    "                                    y_pred=y_fake_e)\n",
    "    return (discriminator_loss_real +\n",
    "            discriminator_loss_fake +\n",
    "            gamma * discriminator_loss_fake_e)"
   ]
  },
  {
   "cell_type": "code",
   "execution_count": 54,
   "id": "c9655450-ebe8-429a-9101-dd7f71a49e09",
   "metadata": {},
   "outputs": [],
   "source": [
    "@tf.function\n",
    "def train_discriminator(x, z):\n",
    "    with tf.GradientTape() as tape:\n",
    "        discriminator_loss = get_discriminator_loss(x, z)\n",
    "\n",
    "    var_list = discriminator.trainable_variables\n",
    "    gradients = tape.gradient(discriminator_loss, var_list)\n",
    "    discriminator_optimizer.apply_gradients(zip(gradients, var_list))\n",
    "    return discriminator_loss"
   ]
  },
  {
   "cell_type": "markdown",
   "id": "75933217-4289-47bd-a411-6b3622f383e3",
   "metadata": {},
   "source": [
    "###  Training Loop"
   ]
  },
  {
   "cell_type": "code",
   "execution_count": 55,
   "id": "c5315dcc-fa81-43f8-9a83-2f751b31e5ba",
   "metadata": {},
   "outputs": [
    {
     "name": "stdout",
     "output_type": "stream",
     "text": [
      "     0 | d_loss: 2.1705 | g_loss_u: 0.6652 | g_loss_s: 0.0000 | g_loss_v: 0.1154 | e_loss_t0: 0.1095\n",
      "    25 | d_loss: 1.9145 | g_loss_u: 1.0551 | g_loss_s: 0.0000 | g_loss_v: 0.1166 | e_loss_t0: 0.1104\n",
      "    50 | d_loss: 1.9156 | g_loss_u: 1.0470 | g_loss_s: 0.0000 | g_loss_v: 0.1146 | e_loss_t0: 0.1075\n",
      "    75 | d_loss: 1.9145 | g_loss_u: 1.1201 | g_loss_s: 0.0000 | g_loss_v: 0.1160 | e_loss_t0: 0.1102\n",
      "   100 | d_loss: 1.9125 | g_loss_u: 1.0512 | g_loss_s: 0.0000 | g_loss_v: 0.1163 | e_loss_t0: 0.1103\n",
      "   125 | d_loss: 1.9123 | g_loss_u: 1.1262 | g_loss_s: 0.0000 | g_loss_v: 0.1166 | e_loss_t0: 0.1091\n",
      "   150 | d_loss: 1.9118 | g_loss_u: 1.0642 | g_loss_s: 0.0000 | g_loss_v: 0.1149 | e_loss_t0: 0.1052\n",
      "   175 | d_loss: 1.9118 | g_loss_u: 1.1247 | g_loss_s: 0.0000 | g_loss_v: 0.1154 | e_loss_t0: 0.1069\n",
      "   200 | d_loss: 1.9113 | g_loss_u: 1.0664 | g_loss_s: 0.0000 | g_loss_v: 0.1164 | e_loss_t0: 0.1102\n",
      "   225 | d_loss: 1.9112 | g_loss_u: 1.1209 | g_loss_s: 0.0000 | g_loss_v: 0.1166 | e_loss_t0: 0.1104\n",
      "   250 | d_loss: 1.9110 | g_loss_u: 1.0675 | g_loss_s: 0.0000 | g_loss_v: 0.1169 | e_loss_t0: 0.1106\n",
      "   275 | d_loss: 1.9109 | g_loss_u: 1.1187 | g_loss_s: 0.0000 | g_loss_v: 0.1158 | e_loss_t0: 0.1093\n",
      "   300 | d_loss: 1.9108 | g_loss_u: 1.0705 | g_loss_s: 0.0000 | g_loss_v: 0.1192 | e_loss_t0: 0.1144\n",
      "   325 | d_loss: 1.9105 | g_loss_u: 1.1165 | g_loss_s: 0.0000 | g_loss_v: 0.1167 | e_loss_t0: 0.1100\n",
      "   350 | d_loss: 1.9105 | g_loss_u: 1.0739 | g_loss_s: 0.0000 | g_loss_v: 0.1159 | e_loss_t0: 0.1088\n",
      "   375 | d_loss: 1.9105 | g_loss_u: 1.1146 | g_loss_s: 0.0000 | g_loss_v: 0.1170 | e_loss_t0: 0.1116\n",
      "   400 | d_loss: 1.9104 | g_loss_u: 1.0757 | g_loss_s: 0.0000 | g_loss_v: 0.1176 | e_loss_t0: 0.1108\n",
      "   425 | d_loss: 1.9102 | g_loss_u: 1.1130 | g_loss_s: 0.0000 | g_loss_v: 0.1148 | e_loss_t0: 0.1076\n",
      "   450 | d_loss: 1.9103 | g_loss_u: 1.0783 | g_loss_s: 0.0000 | g_loss_v: 0.1180 | e_loss_t0: 0.1121\n",
      "   475 | d_loss: 1.9102 | g_loss_u: 1.1115 | g_loss_s: 0.0000 | g_loss_v: 0.1169 | e_loss_t0: 0.1096\n",
      "   500 | d_loss: 1.9102 | g_loss_u: 1.0799 | g_loss_s: 0.0000 | g_loss_v: 0.1170 | e_loss_t0: 0.1091\n",
      "   525 | d_loss: 1.9101 | g_loss_u: 1.1102 | g_loss_s: 0.0000 | g_loss_v: 0.1160 | e_loss_t0: 0.1087\n",
      "   550 | d_loss: 1.9101 | g_loss_u: 1.0816 | g_loss_s: 0.0000 | g_loss_v: 0.1180 | e_loss_t0: 0.1119\n",
      "   575 | d_loss: 1.9100 | g_loss_u: 1.1090 | g_loss_s: 0.0000 | g_loss_v: 0.1180 | e_loss_t0: 0.1109\n",
      "   600 | d_loss: 1.9100 | g_loss_u: 1.0832 | g_loss_s: 0.0000 | g_loss_v: 0.1174 | e_loss_t0: 0.1112\n",
      "   625 | d_loss: 1.9100 | g_loss_u: 1.1079 | g_loss_s: 0.0000 | g_loss_v: 0.1145 | e_loss_t0: 0.1062\n",
      "   650 | d_loss: 1.9100 | g_loss_u: 1.0847 | g_loss_s: 0.0000 | g_loss_v: 0.1171 | e_loss_t0: 0.1113\n",
      "   675 | d_loss: 1.9099 | g_loss_u: 1.1070 | g_loss_s: 0.0000 | g_loss_v: 0.1174 | e_loss_t0: 0.1120\n",
      "   700 | d_loss: 1.9099 | g_loss_u: 1.0859 | g_loss_s: 0.0000 | g_loss_v: 0.1146 | e_loss_t0: 0.1056\n",
      "   725 | d_loss: 1.9099 | g_loss_u: 1.1061 | g_loss_s: 0.0000 | g_loss_v: 0.1169 | e_loss_t0: 0.1117\n",
      "   750 | d_loss: 1.9099 | g_loss_u: 1.0870 | g_loss_s: 0.0000 | g_loss_v: 0.1210 | e_loss_t0: 0.1146\n",
      "   775 | d_loss: 1.9098 | g_loss_u: 1.1055 | g_loss_s: 0.0000 | g_loss_v: 0.1158 | e_loss_t0: 0.1082\n",
      "   800 | d_loss: 1.9098 | g_loss_u: 1.0880 | g_loss_s: 0.0000 | g_loss_v: 0.1162 | e_loss_t0: 0.1093\n",
      "   825 | d_loss: 1.9098 | g_loss_u: 1.1048 | g_loss_s: 0.0000 | g_loss_v: 0.1150 | e_loss_t0: 0.1073\n",
      "   850 | d_loss: 1.9098 | g_loss_u: 1.0888 | g_loss_s: 0.0000 | g_loss_v: 0.1167 | e_loss_t0: 0.1091\n",
      "   875 | d_loss: 1.9098 | g_loss_u: 1.1043 | g_loss_s: 0.0000 | g_loss_v: 0.1160 | e_loss_t0: 0.1090\n",
      "   900 | d_loss: 1.9098 | g_loss_u: 1.0897 | g_loss_s: 0.0000 | g_loss_v: 0.1194 | e_loss_t0: 0.1139\n",
      "   925 | d_loss: 1.9098 | g_loss_u: 1.1038 | g_loss_s: 0.0000 | g_loss_v: 0.1167 | e_loss_t0: 0.1110\n",
      "   950 | d_loss: 1.9098 | g_loss_u: 1.0905 | g_loss_s: 0.0000 | g_loss_v: 0.1177 | e_loss_t0: 0.1122\n",
      "   975 | d_loss: 1.9098 | g_loss_u: 1.1033 | g_loss_s: 0.0000 | g_loss_v: 0.1165 | e_loss_t0: 0.1104\n",
      " 1,000 | d_loss: 1.9097 | g_loss_u: 1.0911 | g_loss_s: 0.0000 | g_loss_v: 0.1154 | e_loss_t0: 0.1086\n",
      " 1,025 | d_loss: 1.9097 | g_loss_u: 1.1028 | g_loss_s: 0.0000 | g_loss_v: 0.1168 | e_loss_t0: 0.1105\n",
      " 1,050 | d_loss: 1.9097 | g_loss_u: 1.0917 | g_loss_s: 0.0000 | g_loss_v: 0.1161 | e_loss_t0: 0.1083\n",
      " 1,075 | d_loss: 1.9097 | g_loss_u: 1.1025 | g_loss_s: 0.0000 | g_loss_v: 0.1193 | e_loss_t0: 0.1142\n",
      " 1,100 | d_loss: 1.9097 | g_loss_u: 1.0920 | g_loss_s: 0.0000 | g_loss_v: 0.1154 | e_loss_t0: 0.1084\n",
      " 1,125 | d_loss: 1.9097 | g_loss_u: 1.1022 | g_loss_s: 0.0000 | g_loss_v: 0.1162 | e_loss_t0: 0.1099\n",
      " 1,150 | d_loss: 1.9097 | g_loss_u: 1.0925 | g_loss_s: 0.0000 | g_loss_v: 0.1156 | e_loss_t0: 0.1090\n",
      " 1,175 | d_loss: 1.9097 | g_loss_u: 1.1019 | g_loss_s: 0.0000 | g_loss_v: 0.1166 | e_loss_t0: 0.1098\n",
      " 1,200 | d_loss: 1.9097 | g_loss_u: 1.0930 | g_loss_s: 0.0000 | g_loss_v: 0.1178 | e_loss_t0: 0.1117\n",
      " 1,225 | d_loss: 1.9097 | g_loss_u: 1.1016 | g_loss_s: 0.0000 | g_loss_v: 0.1171 | e_loss_t0: 0.1114\n",
      " 1,250 | d_loss: 1.9097 | g_loss_u: 1.0933 | g_loss_s: 0.0000 | g_loss_v: 0.1155 | e_loss_t0: 0.1087\n",
      " 1,275 | d_loss: 1.9097 | g_loss_u: 1.1014 | g_loss_s: 0.0000 | g_loss_v: 0.1182 | e_loss_t0: 0.1118\n",
      " 1,300 | d_loss: 1.9097 | g_loss_u: 1.0936 | g_loss_s: 0.0000 | g_loss_v: 0.1178 | e_loss_t0: 0.1102\n",
      " 1,325 | d_loss: 1.9097 | g_loss_u: 1.1012 | g_loss_s: 0.0000 | g_loss_v: 0.1170 | e_loss_t0: 0.1100\n",
      " 1,350 | d_loss: 1.9097 | g_loss_u: 1.0939 | g_loss_s: 0.0000 | g_loss_v: 0.1147 | e_loss_t0: 0.1071\n",
      " 1,375 | d_loss: 1.9097 | g_loss_u: 1.1010 | g_loss_s: 0.0000 | g_loss_v: 0.1158 | e_loss_t0: 0.1085\n",
      " 1,400 | d_loss: 1.9097 | g_loss_u: 1.0942 | g_loss_s: 0.0000 | g_loss_v: 0.1180 | e_loss_t0: 0.1116\n",
      " 1,425 | d_loss: 1.9097 | g_loss_u: 1.1009 | g_loss_s: 0.0000 | g_loss_v: 0.1171 | e_loss_t0: 0.1102\n",
      " 1,450 | d_loss: 1.9097 | g_loss_u: 1.0944 | g_loss_s: 0.0000 | g_loss_v: 0.1161 | e_loss_t0: 0.1097\n",
      " 1,475 | d_loss: 1.9096 | g_loss_u: 1.1007 | g_loss_s: 0.0000 | g_loss_v: 0.1153 | e_loss_t0: 0.1085\n",
      "402.7021460533142\n"
     ]
    }
   ],
   "source": [
    "import time\n",
    "start = time.time()\n",
    "\n",
    "step_g_loss_u = step_g_loss_s = step_g_loss_v = step_e_loss_t0 = step_d_loss = 0\n",
    "losses_d = []\n",
    "losses_g = []\n",
    "accuracies = []\n",
    "\n",
    "for step in range(train_steps):\n",
    "    # Train generator (twice as often as discriminator)\n",
    "    for kk in range(2):\n",
    "        X_ = next(real_series_iter)\n",
    "        Z_ = next(random_series)\n",
    "\n",
    "        # Train generator\n",
    "        step_g_loss_u, step_g_loss_s, step_g_loss_v = train_generator(X_, Z_)\n",
    "        # Train embedder\n",
    "        step_e_loss_t0 = train_embedder(X_)\n",
    "\n",
    "    X_ = next(real_series_iter)\n",
    "    Z_ = next(random_series)\n",
    "    step_d_loss = get_discriminator_loss(X_, Z_)\n",
    "    if step_d_loss > 0.15:\n",
    "        step_d_loss = train_discriminator(X_, Z_)\n",
    "\n",
    "    if step % 25 == 0:\n",
    "        print(f'{step:6,.0f} | d_loss: {step_d_loss:6.4f} | g_loss_u: {step_g_loss_u:6.4f} | '\n",
    "              f'g_loss_s: {step_g_loss_s:6.4f} | g_loss_v: {step_g_loss_v:6.4f} | e_loss_t0: {step_e_loss_t0:6.4f}')\n",
    "\n",
    "    losses_g.append(step_g_loss_u)\n",
    "    losses_d.append(step_d_loss)\n",
    "\n",
    "    with writer.as_default():\n",
    "        tf.summary.scalar('G Loss S', step_g_loss_s, step=step)\n",
    "        tf.summary.scalar('G Loss U', step_g_loss_u, step=step)\n",
    "        tf.summary.scalar('G Loss V', step_g_loss_v, step=step)\n",
    "        tf.summary.scalar('E Loss T0', step_e_loss_t0, step=step)\n",
    "        tf.summary.scalar('D Loss', step_d_loss, step=step)\n",
    "\n",
    "end = time.time()\n",
    "print(end - start)"
   ]
  },
  {
   "cell_type": "code",
   "execution_count": 56,
   "id": "40952980-e5f1-4bd5-8851-1400f8a22d26",
   "metadata": {},
   "outputs": [
    {
     "data": {
      "text/plain": [
       "[<matplotlib.lines.Line2D at 0x7fbfb8723fa0>]"
      ]
     },
     "execution_count": 56,
     "metadata": {},
     "output_type": "execute_result"
    },
    {
     "data": {
      "image/png": "[encoded data removed]",
      "text/plain": [
       "<Figure size 640x480 with 1 Axes>"
      ]
     },
     "metadata": {},
     "output_type": "display_data"
    }
   ],
   "source": [
    "plt.plot(losses_d)\n"
   ]
  },
  {
   "cell_type": "code",
   "execution_count": 57,
   "id": "7e54c59b-b03d-4d14-848f-63b5c8bdd502",
   "metadata": {},
   "outputs": [
    {
     "data": {
      "text/plain": [
       "[<matplotlib.lines.Line2D at 0x7fbfb8783fa0>]"
      ]
     },
     "execution_count": 57,
     "metadata": {},
     "output_type": "execute_result"
    },
    {
     "data": {
      "image/png": "[encoded data removed]",
      "text/plain": [
       "<Figure size 640x480 with 1 Axes>"
      ]
     },
     "metadata": {},
     "output_type": "display_data"
    }
   ],
   "source": [
    "plt.plot(losses_g)"
   ]
  },
  {
   "cell_type": "code",
   "execution_count": 58,
   "id": "ab47cd39-42c9-43d2-b2ee-d9360b217d0b",
   "metadata": {},
   "outputs": [
    {
     "name": "stdout",
     "output_type": "stream",
     "text": [
      "WARNING:tensorflow:Compiled the loaded model, but the compiled metrics have yet to be built. `model.compile_metrics` will be empty until you train or evaluate the model.\n",
      "INFO:tensorflow:Assets written to: 4.2v2_time_gan/experiment_00/synthetic_data/assets\n"
     ]
    },
    {
     "name": "stderr",
     "output_type": "stream",
     "text": [
      "INFO:tensorflow:Assets written to: 4.2v2_time_gan/experiment_00/synthetic_data/assets\n"
     ]
    }
   ],
   "source": [
    "synthetic_data.save(log_dir / 'synthetic_data')"
   ]
  },
  {
   "cell_type": "code",
   "execution_count": 98,
   "id": "15d6ab85-db5c-4abc-a5b5-c0dcdf06f40e",
   "metadata": {},
   "outputs": [],
   "source": [
    "generated_data = []\n",
    "for i in range(int(n_windows / batch_size)):\n",
    "    Z_ = next(random_series)\n",
    "    d = synthetic_data(Z_)\n",
    "    generated_data.append(d)"
   ]
  },
  {
   "cell_type": "code",
   "execution_count": 99,
   "id": "d3237ccf-aed1-409f-85d3-fae432b546e9",
   "metadata": {},
   "outputs": [
    {
     "data": {
      "text/plain": [
       "(8704, 24, 4125)"
      ]
     },
     "execution_count": 99,
     "metadata": {},
     "output_type": "execute_result"
    }
   ],
   "source": [
    "generated_data = np.array(np.vstack(generated_data))\n",
    "generated_data.shape"
   ]
  },
  {
   "cell_type": "code",
   "execution_count": 100,
   "id": "1dfdf4b0-7ffe-4959-aae7-ad74b7d7c06e",
   "metadata": {},
   "outputs": [],
   "source": [
    "np.save(log_dir / 'generated_data4.1.npy', generated_data)"
   ]
  },
  {
   "cell_type": "code",
   "execution_count": 101,
   "id": "b36d9d35-60cd-4ce3-8983-a29ce58d0ccd",
   "metadata": {},
   "outputs": [
    {
     "data": {
      "text/plain": [
       "(8704, 24, 4125)"
      ]
     },
     "execution_count": 101,
     "metadata": {},
     "output_type": "execute_result"
    }
   ],
   "source": [
    "generated_data = (scaler.inverse_transform(generated_data\n",
    "                                           .reshape(-1, n_seq))\n",
    "                  .reshape(-1, seq_len, n_seq))\n",
    "generated_data.shape"
   ]
  },
  {
   "cell_type": "code",
   "execution_count": 102,
   "id": "57f26313-3095-4980-b538-4fd8b9f0a693",
   "metadata": {},
   "outputs": [],
   "source": [
    "generated_df = pd.DataFrame(generated_data.reshape(-1, n_seq), columns=df.columns)"
   ]
  },
  {
   "cell_type": "code",
   "execution_count": 103,
   "id": "35297635-4b55-4b77-9dad-63a2ee062602",
   "metadata": {},
   "outputs": [],
   "source": [
    "generated_df.sort_index(inplace=True, ascending=False)"
   ]
  },
  {
   "cell_type": "code",
   "execution_count": 104,
   "id": "f68b2b9e-a5ea-493c-a0e1-668910f3bc2c",
   "metadata": {},
   "outputs": [],
   "source": [
    "generated_df.index = pd.date_range(start=df.index[-1], periods=len(generated_df), freq='h')"
   ]
  },
  {
   "cell_type": "code",
   "execution_count": 109,
   "id": "79eac403-d075-4797-8896-dfc0c844e6b6",
   "metadata": {},
   "outputs": [],
   "source": [
    "generated_df.index.name = 'timestamp'"
   ]
  },
  {
   "cell_type": "code",
   "execution_count": 110,
   "id": "a3dcf4c7-2e24-48df-ad04-7951a83e3fa0",
   "metadata": {},
   "outputs": [
    {
     "data": {
      "text/html": [
       "<div>\n",
       "<style scoped>\n",
       "    .dataframe tbody tr th:only-of-type {\n",
       "        vertical-align: middle;\n",
       "    }\n",
       "\n",
       "    .dataframe tbody tr th {\n",
       "        vertical-align: top;\n",
       "    }\n",
       "\n",
       "    .dataframe thead th {\n",
       "        text-align: right;\n",
       "    }\n",
       "</style>\n",
       "<table border=\"1\" class=\"dataframe\">\n",
       "  <thead>\n",
       "    <tr style=\"text-align: right;\">\n",
       "      <th></th>\n",
       "      <th>0</th>\n",
       "      <th>1</th>\n",
       "      <th>2</th>\n",
       "      <th>3</th>\n",
       "      <th>4</th>\n",
       "      <th>5</th>\n",
       "      <th>6</th>\n",
       "      <th>7</th>\n",
       "      <th>8</th>\n",
       "      <th>9</th>\n",
       "      <th>...</th>\n",
       "      <th>4115</th>\n",
       "      <th>4116</th>\n",
       "      <th>4117</th>\n",
       "      <th>4118</th>\n",
       "      <th>4119</th>\n",
       "      <th>4120</th>\n",
       "      <th>4121</th>\n",
       "      <th>4122</th>\n",
       "      <th>4123</th>\n",
       "      <th>4124</th>\n",
       "    </tr>\n",
       "    <tr>\n",
       "      <th>timestamp</th>\n",
       "      <th></th>\n",
       "      <th></th>\n",
       "      <th></th>\n",
       "      <th></th>\n",
       "      <th></th>\n",
       "      <th></th>\n",
       "      <th></th>\n",
       "      <th></th>\n",
       "      <th></th>\n",
       "      <th></th>\n",
       "      <th></th>\n",
       "      <th></th>\n",
       "      <th></th>\n",
       "      <th></th>\n",
       "      <th></th>\n",
       "      <th></th>\n",
       "      <th></th>\n",
       "      <th></th>\n",
       "      <th></th>\n",
       "      <th></th>\n",
       "      <th></th>\n",
       "    </tr>\n",
       "  </thead>\n",
       "  <tbody>\n",
       "    <tr>\n",
       "      <th>2013-01-01 00:00:00</th>\n",
       "      <td>0.546976</td>\n",
       "      <td>0.863648</td>\n",
       "      <td>0.092394</td>\n",
       "      <td>0.246409</td>\n",
       "      <td>0.132204</td>\n",
       "      <td>0.517769</td>\n",
       "      <td>1.092135</td>\n",
       "      <td>0.625639</td>\n",
       "      <td>0.143951</td>\n",
       "      <td>0.203566</td>\n",
       "      <td>...</td>\n",
       "      <td>0.500008</td>\n",
       "      <td>0.426724</td>\n",
       "      <td>1.442138</td>\n",
       "      <td>0.294342</td>\n",
       "      <td>0.302797</td>\n",
       "      <td>0.289455</td>\n",
       "      <td>0.355923</td>\n",
       "      <td>0.473963</td>\n",
       "      <td>0.934765</td>\n",
       "      <td>0.250020</td>\n",
       "    </tr>\n",
       "    <tr>\n",
       "      <th>2013-01-01 01:00:00</th>\n",
       "      <td>0.546976</td>\n",
       "      <td>0.863648</td>\n",
       "      <td>0.092394</td>\n",
       "      <td>0.246409</td>\n",
       "      <td>0.132204</td>\n",
       "      <td>0.517769</td>\n",
       "      <td>1.092135</td>\n",
       "      <td>0.625639</td>\n",
       "      <td>0.143951</td>\n",
       "      <td>0.203566</td>\n",
       "      <td>...</td>\n",
       "      <td>0.500008</td>\n",
       "      <td>0.426724</td>\n",
       "      <td>1.442138</td>\n",
       "      <td>0.294342</td>\n",
       "      <td>0.302797</td>\n",
       "      <td>0.289455</td>\n",
       "      <td>0.355923</td>\n",
       "      <td>0.473963</td>\n",
       "      <td>0.934765</td>\n",
       "      <td>0.250020</td>\n",
       "    </tr>\n",
       "    <tr>\n",
       "      <th>2013-01-01 02:00:00</th>\n",
       "      <td>0.546976</td>\n",
       "      <td>0.863648</td>\n",
       "      <td>0.092394</td>\n",
       "      <td>0.246409</td>\n",
       "      <td>0.132204</td>\n",
       "      <td>0.517769</td>\n",
       "      <td>1.092135</td>\n",
       "      <td>0.625639</td>\n",
       "      <td>0.143951</td>\n",
       "      <td>0.203566</td>\n",
       "      <td>...</td>\n",
       "      <td>0.500008</td>\n",
       "      <td>0.426724</td>\n",
       "      <td>1.442138</td>\n",
       "      <td>0.294342</td>\n",
       "      <td>0.302797</td>\n",
       "      <td>0.289455</td>\n",
       "      <td>0.355923</td>\n",
       "      <td>0.473963</td>\n",
       "      <td>0.934765</td>\n",
       "      <td>0.250020</td>\n",
       "    </tr>\n",
       "    <tr>\n",
       "      <th>2013-01-01 03:00:00</th>\n",
       "      <td>0.546976</td>\n",
       "      <td>0.863648</td>\n",
       "      <td>0.092394</td>\n",
       "      <td>0.246409</td>\n",
       "      <td>0.132204</td>\n",
       "      <td>0.517769</td>\n",
       "      <td>1.092135</td>\n",
       "      <td>0.625639</td>\n",
       "      <td>0.143951</td>\n",
       "      <td>0.203566</td>\n",
       "      <td>...</td>\n",
       "      <td>0.500008</td>\n",
       "      <td>0.426724</td>\n",
       "      <td>1.442138</td>\n",
       "      <td>0.294342</td>\n",
       "      <td>0.302797</td>\n",
       "      <td>0.289455</td>\n",
       "      <td>0.355923</td>\n",
       "      <td>0.473963</td>\n",
       "      <td>0.934765</td>\n",
       "      <td>0.250020</td>\n",
       "    </tr>\n",
       "    <tr>\n",
       "      <th>2013-01-01 04:00:00</th>\n",
       "      <td>0.546976</td>\n",
       "      <td>0.863648</td>\n",
       "      <td>0.092394</td>\n",
       "      <td>0.246409</td>\n",
       "      <td>0.132204</td>\n",
       "      <td>0.517769</td>\n",
       "      <td>1.092135</td>\n",
       "      <td>0.625639</td>\n",
       "      <td>0.143951</td>\n",
       "      <td>0.203566</td>\n",
       "      <td>...</td>\n",
       "      <td>0.500008</td>\n",
       "      <td>0.426724</td>\n",
       "      <td>1.442138</td>\n",
       "      <td>0.294342</td>\n",
       "      <td>0.302797</td>\n",
       "      <td>0.289455</td>\n",
       "      <td>0.355923</td>\n",
       "      <td>0.473963</td>\n",
       "      <td>0.934765</td>\n",
       "      <td>0.250020</td>\n",
       "    </tr>\n",
       "    <tr>\n",
       "      <th>...</th>\n",
       "      <td>...</td>\n",
       "      <td>...</td>\n",
       "      <td>...</td>\n",
       "      <td>...</td>\n",
       "      <td>...</td>\n",
       "      <td>...</td>\n",
       "      <td>...</td>\n",
       "      <td>...</td>\n",
       "      <td>...</td>\n",
       "      <td>...</td>\n",
       "      <td>...</td>\n",
       "      <td>...</td>\n",
       "      <td>...</td>\n",
       "      <td>...</td>\n",
       "      <td>...</td>\n",
       "      <td>...</td>\n",
       "      <td>...</td>\n",
       "      <td>...</td>\n",
       "      <td>...</td>\n",
       "      <td>...</td>\n",
       "      <td>...</td>\n",
       "    </tr>\n",
       "    <tr>\n",
       "      <th>2036-10-30 19:00:00</th>\n",
       "      <td>0.546979</td>\n",
       "      <td>0.863654</td>\n",
       "      <td>0.092395</td>\n",
       "      <td>0.246412</td>\n",
       "      <td>0.132205</td>\n",
       "      <td>0.517773</td>\n",
       "      <td>1.092140</td>\n",
       "      <td>0.625642</td>\n",
       "      <td>0.143953</td>\n",
       "      <td>0.203567</td>\n",
       "      <td>...</td>\n",
       "      <td>0.500011</td>\n",
       "      <td>0.426727</td>\n",
       "      <td>1.442144</td>\n",
       "      <td>0.294344</td>\n",
       "      <td>0.302799</td>\n",
       "      <td>0.289457</td>\n",
       "      <td>0.355926</td>\n",
       "      <td>0.473966</td>\n",
       "      <td>0.934770</td>\n",
       "      <td>0.250022</td>\n",
       "    </tr>\n",
       "    <tr>\n",
       "      <th>2036-10-30 20:00:00</th>\n",
       "      <td>0.546991</td>\n",
       "      <td>0.863675</td>\n",
       "      <td>0.092398</td>\n",
       "      <td>0.246419</td>\n",
       "      <td>0.132208</td>\n",
       "      <td>0.517789</td>\n",
       "      <td>1.092158</td>\n",
       "      <td>0.625654</td>\n",
       "      <td>0.143958</td>\n",
       "      <td>0.203569</td>\n",
       "      <td>...</td>\n",
       "      <td>0.500022</td>\n",
       "      <td>0.426739</td>\n",
       "      <td>1.442163</td>\n",
       "      <td>0.294351</td>\n",
       "      <td>0.302806</td>\n",
       "      <td>0.289461</td>\n",
       "      <td>0.355934</td>\n",
       "      <td>0.473974</td>\n",
       "      <td>0.934789</td>\n",
       "      <td>0.250027</td>\n",
       "    </tr>\n",
       "    <tr>\n",
       "      <th>2036-10-30 21:00:00</th>\n",
       "      <td>0.547094</td>\n",
       "      <td>0.863865</td>\n",
       "      <td>0.092425</td>\n",
       "      <td>0.246486</td>\n",
       "      <td>0.132239</td>\n",
       "      <td>0.517933</td>\n",
       "      <td>1.092313</td>\n",
       "      <td>0.625758</td>\n",
       "      <td>0.144003</td>\n",
       "      <td>0.203591</td>\n",
       "      <td>...</td>\n",
       "      <td>0.500121</td>\n",
       "      <td>0.426845</td>\n",
       "      <td>1.442335</td>\n",
       "      <td>0.294412</td>\n",
       "      <td>0.302863</td>\n",
       "      <td>0.289505</td>\n",
       "      <td>0.356009</td>\n",
       "      <td>0.474052</td>\n",
       "      <td>0.934956</td>\n",
       "      <td>0.250078</td>\n",
       "    </tr>\n",
       "    <tr>\n",
       "      <th>2036-10-30 22:00:00</th>\n",
       "      <td>0.549258</td>\n",
       "      <td>0.867861</td>\n",
       "      <td>0.092991</td>\n",
       "      <td>0.247897</td>\n",
       "      <td>0.132887</td>\n",
       "      <td>0.520965</td>\n",
       "      <td>1.095582</td>\n",
       "      <td>0.627964</td>\n",
       "      <td>0.144963</td>\n",
       "      <td>0.204053</td>\n",
       "      <td>...</td>\n",
       "      <td>0.502203</td>\n",
       "      <td>0.429086</td>\n",
       "      <td>1.445962</td>\n",
       "      <td>0.295698</td>\n",
       "      <td>0.304084</td>\n",
       "      <td>0.290418</td>\n",
       "      <td>0.357600</td>\n",
       "      <td>0.475688</td>\n",
       "      <td>0.938473</td>\n",
       "      <td>0.251140</td>\n",
       "    </tr>\n",
       "    <tr>\n",
       "      <th>2036-10-30 23:00:00</th>\n",
       "      <td>0.612342</td>\n",
       "      <td>0.982510</td>\n",
       "      <td>0.109599</td>\n",
       "      <td>0.289360</td>\n",
       "      <td>0.151528</td>\n",
       "      <td>0.610083</td>\n",
       "      <td>1.188078</td>\n",
       "      <td>0.690880</td>\n",
       "      <td>0.173334</td>\n",
       "      <td>0.216967</td>\n",
       "      <td>...</td>\n",
       "      <td>0.562247</td>\n",
       "      <td>0.493900</td>\n",
       "      <td>1.547639</td>\n",
       "      <td>0.332896</td>\n",
       "      <td>0.340000</td>\n",
       "      <td>0.317004</td>\n",
       "      <td>0.403969</td>\n",
       "      <td>0.521929</td>\n",
       "      <td>1.038728</td>\n",
       "      <td>0.282109</td>\n",
       "    </tr>\n",
       "  </tbody>\n",
       "</table>\n",
       "<p>208896 rows × 4125 columns</p>\n",
       "</div>"
      ],
      "text/plain": [
       "                            0         1         2         3         4  \\\n",
       "timestamp                                                               \n",
       "2013-01-01 00:00:00  0.546976  0.863648  0.092394  0.246409  0.132204   \n",
       "2013-01-01 01:00:00  0.546976  0.863648  0.092394  0.246409  0.132204   \n",
       "2013-01-01 02:00:00  0.546976  0.863648  0.092394  0.246409  0.132204   \n",
       "2013-01-01 03:00:00  0.546976  0.863648  0.092394  0.246409  0.132204   \n",
       "2013-01-01 04:00:00  0.546976  0.863648  0.092394  0.246409  0.132204   \n",
       "...                       ...       ...       ...       ...       ...   \n",
       "2036-10-30 19:00:00  0.546979  0.863654  0.092395  0.246412  0.132205   \n",
       "2036-10-30 20:00:00  0.546991  0.863675  0.092398  0.246419  0.132208   \n",
       "2036-10-30 21:00:00  0.547094  0.863865  0.092425  0.246486  0.132239   \n",
       "2036-10-30 22:00:00  0.549258  0.867861  0.092991  0.247897  0.132887   \n",
       "2036-10-30 23:00:00  0.612342  0.982510  0.109599  0.289360  0.151528   \n",
       "\n",
       "                            5         6         7         8         9  ...  \\\n",
       "timestamp                                                              ...   \n",
       "2013-01-01 00:00:00  0.517769  1.092135  0.625639  0.143951  0.203566  ...   \n",
       "2013-01-01 01:00:00  0.517769  1.092135  0.625639  0.143951  0.203566  ...   \n",
       "2013-01-01 02:00:00  0.517769  1.092135  0.625639  0.143951  0.203566  ...   \n",
       "2013-01-01 03:00:00  0.517769  1.092135  0.625639  0.143951  0.203566  ...   \n",
       "2013-01-01 04:00:00  0.517769  1.092135  0.625639  0.143951  0.203566  ...   \n",
       "...                       ...       ...       ...       ...       ...  ...   \n",
       "2036-10-30 19:00:00  0.517773  1.092140  0.625642  0.143953  0.203567  ...   \n",
       "2036-10-30 20:00:00  0.517789  1.092158  0.625654  0.143958  0.203569  ...   \n",
       "2036-10-30 21:00:00  0.517933  1.092313  0.625758  0.144003  0.203591  ...   \n",
       "2036-10-30 22:00:00  0.520965  1.095582  0.627964  0.144963  0.204053  ...   \n",
       "2036-10-30 23:00:00  0.610083  1.188078  0.690880  0.173334  0.216967  ...   \n",
       "\n",
       "                         4115      4116      4117      4118      4119  \\\n",
       "timestamp                                                               \n",
       "2013-01-01 00:00:00  0.500008  0.426724  1.442138  0.294342  0.302797   \n",
       "2013-01-01 01:00:00  0.500008  0.426724  1.442138  0.294342  0.302797   \n",
       "2013-01-01 02:00:00  0.500008  0.426724  1.442138  0.294342  0.302797   \n",
       "2013-01-01 03:00:00  0.500008  0.426724  1.442138  0.294342  0.302797   \n",
       "2013-01-01 04:00:00  0.500008  0.426724  1.442138  0.294342  0.302797   \n",
       "...                       ...       ...       ...       ...       ...   \n",
       "2036-10-30 19:00:00  0.500011  0.426727  1.442144  0.294344  0.302799   \n",
       "2036-10-30 20:00:00  0.500022  0.426739  1.442163  0.294351  0.302806   \n",
       "2036-10-30 21:00:00  0.500121  0.426845  1.442335  0.294412  0.302863   \n",
       "2036-10-30 22:00:00  0.502203  0.429086  1.445962  0.295698  0.304084   \n",
       "2036-10-30 23:00:00  0.562247  0.493900  1.547639  0.332896  0.340000   \n",
       "\n",
       "                         4120      4121      4122      4123      4124  \n",
       "timestamp                                                              \n",
       "2013-01-01 00:00:00  0.289455  0.355923  0.473963  0.934765  0.250020  \n",
       "2013-01-01 01:00:00  0.289455  0.355923  0.473963  0.934765  0.250020  \n",
       "2013-01-01 02:00:00  0.289455  0.355923  0.473963  0.934765  0.250020  \n",
       "2013-01-01 03:00:00  0.289455  0.355923  0.473963  0.934765  0.250020  \n",
       "2013-01-01 04:00:00  0.289455  0.355923  0.473963  0.934765  0.250020  \n",
       "...                       ...       ...       ...       ...       ...  \n",
       "2036-10-30 19:00:00  0.289457  0.355926  0.473966  0.934770  0.250022  \n",
       "2036-10-30 20:00:00  0.289461  0.355934  0.473974  0.934789  0.250027  \n",
       "2036-10-30 21:00:00  0.289505  0.356009  0.474052  0.934956  0.250078  \n",
       "2036-10-30 22:00:00  0.290418  0.357600  0.475688  0.938473  0.251140  \n",
       "2036-10-30 23:00:00  0.317004  0.403969  0.521929  1.038728  0.282109  \n",
       "\n",
       "[208896 rows x 4125 columns]"
      ]
     },
     "execution_count": 110,
     "metadata": {},
     "output_type": "execute_result"
    }
   ],
   "source": [
    "generated_df"
   ]
  },
  {
   "cell_type": "code",
   "execution_count": 111,
   "id": "ac20b2ea-c846-4568-80e9-646ef4d41235",
   "metadata": {},
   "outputs": [],
   "source": [
    "generated_df_2013 = generated_df[generated_df.index.year == 2013]"
   ]
  },
  {
   "cell_type": "code",
   "execution_count": 114,
   "id": "2f08fc1e-81eb-461e-9e9a-cd25df5c514b",
   "metadata": {},
   "outputs": [
    {
     "data": {
      "text/html": [
       "<div>\n",
       "<style scoped>\n",
       "    .dataframe tbody tr th:only-of-type {\n",
       "        vertical-align: middle;\n",
       "    }\n",
       "\n",
       "    .dataframe tbody tr th {\n",
       "        vertical-align: top;\n",
       "    }\n",
       "\n",
       "    .dataframe thead th {\n",
       "        text-align: right;\n",
       "    }\n",
       "</style>\n",
       "<table border=\"1\" class=\"dataframe\">\n",
       "  <thead>\n",
       "    <tr style=\"text-align: right;\">\n",
       "      <th></th>\n",
       "      <th>0</th>\n",
       "      <th>1</th>\n",
       "      <th>2</th>\n",
       "      <th>3</th>\n",
       "      <th>4</th>\n",
       "      <th>5</th>\n",
       "      <th>6</th>\n",
       "      <th>7</th>\n",
       "      <th>8</th>\n",
       "      <th>9</th>\n",
       "      <th>...</th>\n",
       "      <th>4115</th>\n",
       "      <th>4116</th>\n",
       "      <th>4117</th>\n",
       "      <th>4118</th>\n",
       "      <th>4119</th>\n",
       "      <th>4120</th>\n",
       "      <th>4121</th>\n",
       "      <th>4122</th>\n",
       "      <th>4123</th>\n",
       "      <th>4124</th>\n",
       "    </tr>\n",
       "    <tr>\n",
       "      <th>timestamp</th>\n",
       "      <th></th>\n",
       "      <th></th>\n",
       "      <th></th>\n",
       "      <th></th>\n",
       "      <th></th>\n",
       "      <th></th>\n",
       "      <th></th>\n",
       "      <th></th>\n",
       "      <th></th>\n",
       "      <th></th>\n",
       "      <th></th>\n",
       "      <th></th>\n",
       "      <th></th>\n",
       "      <th></th>\n",
       "      <th></th>\n",
       "      <th></th>\n",
       "      <th></th>\n",
       "      <th></th>\n",
       "      <th></th>\n",
       "      <th></th>\n",
       "      <th></th>\n",
       "    </tr>\n",
       "  </thead>\n",
       "  <tbody>\n",
       "    <tr>\n",
       "      <th>2013-01-01 00:00:00</th>\n",
       "      <td>0.546976</td>\n",
       "      <td>0.863648</td>\n",
       "      <td>0.092394</td>\n",
       "      <td>0.246409</td>\n",
       "      <td>0.132204</td>\n",
       "      <td>0.517769</td>\n",
       "      <td>1.092135</td>\n",
       "      <td>0.625639</td>\n",
       "      <td>0.143951</td>\n",
       "      <td>0.203566</td>\n",
       "      <td>...</td>\n",
       "      <td>0.500008</td>\n",
       "      <td>0.426724</td>\n",
       "      <td>1.442138</td>\n",
       "      <td>0.294342</td>\n",
       "      <td>0.302797</td>\n",
       "      <td>0.289455</td>\n",
       "      <td>0.355923</td>\n",
       "      <td>0.473963</td>\n",
       "      <td>0.934765</td>\n",
       "      <td>0.25002</td>\n",
       "    </tr>\n",
       "    <tr>\n",
       "      <th>2013-01-01 01:00:00</th>\n",
       "      <td>0.546976</td>\n",
       "      <td>0.863648</td>\n",
       "      <td>0.092394</td>\n",
       "      <td>0.246409</td>\n",
       "      <td>0.132204</td>\n",
       "      <td>0.517769</td>\n",
       "      <td>1.092135</td>\n",
       "      <td>0.625639</td>\n",
       "      <td>0.143951</td>\n",
       "      <td>0.203566</td>\n",
       "      <td>...</td>\n",
       "      <td>0.500008</td>\n",
       "      <td>0.426724</td>\n",
       "      <td>1.442138</td>\n",
       "      <td>0.294342</td>\n",
       "      <td>0.302797</td>\n",
       "      <td>0.289455</td>\n",
       "      <td>0.355923</td>\n",
       "      <td>0.473963</td>\n",
       "      <td>0.934765</td>\n",
       "      <td>0.25002</td>\n",
       "    </tr>\n",
       "    <tr>\n",
       "      <th>2013-01-01 02:00:00</th>\n",
       "      <td>0.546976</td>\n",
       "      <td>0.863648</td>\n",
       "      <td>0.092394</td>\n",
       "      <td>0.246409</td>\n",
       "      <td>0.132204</td>\n",
       "      <td>0.517769</td>\n",
       "      <td>1.092135</td>\n",
       "      <td>0.625639</td>\n",
       "      <td>0.143951</td>\n",
       "      <td>0.203566</td>\n",
       "      <td>...</td>\n",
       "      <td>0.500008</td>\n",
       "      <td>0.426724</td>\n",
       "      <td>1.442138</td>\n",
       "      <td>0.294342</td>\n",
       "      <td>0.302797</td>\n",
       "      <td>0.289455</td>\n",
       "      <td>0.355923</td>\n",
       "      <td>0.473963</td>\n",
       "      <td>0.934765</td>\n",
       "      <td>0.25002</td>\n",
       "    </tr>\n",
       "    <tr>\n",
       "      <th>2013-01-01 03:00:00</th>\n",
       "      <td>0.546976</td>\n",
       "      <td>0.863648</td>\n",
       "      <td>0.092394</td>\n",
       "      <td>0.246409</td>\n",
       "      <td>0.132204</td>\n",
       "      <td>0.517769</td>\n",
       "      <td>1.092135</td>\n",
       "      <td>0.625639</td>\n",
       "      <td>0.143951</td>\n",
       "      <td>0.203566</td>\n",
       "      <td>...</td>\n",
       "      <td>0.500008</td>\n",
       "      <td>0.426724</td>\n",
       "      <td>1.442138</td>\n",
       "      <td>0.294342</td>\n",
       "      <td>0.302797</td>\n",
       "      <td>0.289455</td>\n",
       "      <td>0.355923</td>\n",
       "      <td>0.473963</td>\n",
       "      <td>0.934765</td>\n",
       "      <td>0.25002</td>\n",
       "    </tr>\n",
       "    <tr>\n",
       "      <th>2013-01-01 04:00:00</th>\n",
       "      <td>0.546976</td>\n",
       "      <td>0.863648</td>\n",
       "      <td>0.092394</td>\n",
       "      <td>0.246409</td>\n",
       "      <td>0.132204</td>\n",
       "      <td>0.517769</td>\n",
       "      <td>1.092135</td>\n",
       "      <td>0.625639</td>\n",
       "      <td>0.143951</td>\n",
       "      <td>0.203566</td>\n",
       "      <td>...</td>\n",
       "      <td>0.500008</td>\n",
       "      <td>0.426724</td>\n",
       "      <td>1.442138</td>\n",
       "      <td>0.294342</td>\n",
       "      <td>0.302797</td>\n",
       "      <td>0.289455</td>\n",
       "      <td>0.355923</td>\n",
       "      <td>0.473963</td>\n",
       "      <td>0.934765</td>\n",
       "      <td>0.25002</td>\n",
       "    </tr>\n",
       "  </tbody>\n",
       "</table>\n",
       "<p>5 rows × 4125 columns</p>\n",
       "</div>"
      ],
      "text/plain": [
       "                            0         1         2         3         4  \\\n",
       "timestamp                                                               \n",
       "2013-01-01 00:00:00  0.546976  0.863648  0.092394  0.246409  0.132204   \n",
       "2013-01-01 01:00:00  0.546976  0.863648  0.092394  0.246409  0.132204   \n",
       "2013-01-01 02:00:00  0.546976  0.863648  0.092394  0.246409  0.132204   \n",
       "2013-01-01 03:00:00  0.546976  0.863648  0.092394  0.246409  0.132204   \n",
       "2013-01-01 04:00:00  0.546976  0.863648  0.092394  0.246409  0.132204   \n",
       "\n",
       "                            5         6         7         8         9  ...  \\\n",
       "timestamp                                                              ...   \n",
       "2013-01-01 00:00:00  0.517769  1.092135  0.625639  0.143951  0.203566  ...   \n",
       "2013-01-01 01:00:00  0.517769  1.092135  0.625639  0.143951  0.203566  ...   \n",
       "2013-01-01 02:00:00  0.517769  1.092135  0.625639  0.143951  0.203566  ...   \n",
       "2013-01-01 03:00:00  0.517769  1.092135  0.625639  0.143951  0.203566  ...   \n",
       "2013-01-01 04:00:00  0.517769  1.092135  0.625639  0.143951  0.203566  ...   \n",
       "\n",
       "                         4115      4116      4117      4118      4119  \\\n",
       "timestamp                                                               \n",
       "2013-01-01 00:00:00  0.500008  0.426724  1.442138  0.294342  0.302797   \n",
       "2013-01-01 01:00:00  0.500008  0.426724  1.442138  0.294342  0.302797   \n",
       "2013-01-01 02:00:00  0.500008  0.426724  1.442138  0.294342  0.302797   \n",
       "2013-01-01 03:00:00  0.500008  0.426724  1.442138  0.294342  0.302797   \n",
       "2013-01-01 04:00:00  0.500008  0.426724  1.442138  0.294342  0.302797   \n",
       "\n",
       "                         4120      4121      4122      4123     4124  \n",
       "timestamp                                                             \n",
       "2013-01-01 00:00:00  0.289455  0.355923  0.473963  0.934765  0.25002  \n",
       "2013-01-01 01:00:00  0.289455  0.355923  0.473963  0.934765  0.25002  \n",
       "2013-01-01 02:00:00  0.289455  0.355923  0.473963  0.934765  0.25002  \n",
       "2013-01-01 03:00:00  0.289455  0.355923  0.473963  0.934765  0.25002  \n",
       "2013-01-01 04:00:00  0.289455  0.355923  0.473963  0.934765  0.25002  \n",
       "\n",
       "[5 rows x 4125 columns]"
      ]
     },
     "execution_count": 114,
     "metadata": {},
     "output_type": "execute_result"
    }
   ],
   "source": [
    "generated_df_2013.head()"
   ]
  },
  {
   "cell_type": "code",
   "execution_count": 112,
   "id": "1adf6666-db1a-4795-98ed-95a01730e333",
   "metadata": {},
   "outputs": [],
   "source": [
    "generated_df_2013.to_csv('generated_data.csv')"
   ]
  },
  {
   "cell_type": "markdown",
   "id": "409757d1-5c26-4343-ad26-0ce6b69d43b4",
   "metadata": {},
   "source": [
    "# WORKFLOW FINISHED"
   ]
  },
  {
   "cell_type": "code",
   "execution_count": null,
   "id": "d8fe1f01-6457-4c53-a48f-5f5bdc3b1f84",
   "metadata": {},
   "outputs": [],
   "source": []
  },
  {
   "cell_type": "code",
   "execution_count": null,
   "id": "c3f14ef4-a8d3-4b26-bcc9-32a582380bd0",
   "metadata": {},
   "outputs": [],
   "source": [
    "fig, axes = plt.subplots(nrows=3, ncols=2, figsize=(14, 7))\n",
    "axes = axes.flatten()\n",
    "\n",
    "index = list(range(1, 25))\n",
    "synthetic = generated_data[np.random.randint(n_windows)]\n",
    "\n",
    "idx = np.random.randint(len(df) - seq_len)\n",
    "real = df.iloc[idx: idx + seq_len]\n",
    "\n",
    "for j, ticker in enumerate(tickers):\n",
    "    (pd.DataFrame({'Real': real.iloc[:, j].values,\n",
    "                   'Synthetic': synthetic[:, j]})\n",
    "     .plot(ax=axes[j],\n",
    "           title=ticker,\n",
    "           secondary_y='Synthetic', style=['-', '--'],\n",
    "           lw=1))\n",
    "sns.despine()\n",
    "fig.tight_layout()"
   ]
  },
  {
   "cell_type": "code",
   "execution_count": null,
   "id": "b0de41ff-3576-4b27-ba0f-ceba4bdab17b",
   "metadata": {},
   "outputs": [],
   "source": []
  },
  {
   "cell_type": "markdown",
   "id": "38a1f975-b10e-4017-b771-a1a8b274c594",
   "metadata": {},
   "source": [
    "### Evaluation"
   ]
  },
  {
   "cell_type": "code",
   "execution_count": null,
   "id": "f93a739a-da22-49fb-b6a4-3c887ad8a18e",
   "metadata": {},
   "outputs": [],
   "source": [
    "from pathlib import Path\n",
    "\n",
    "import numpy as np\n",
    "import pandas as pd\n",
    "\n",
    "from sklearn.manifold import TSNE\n",
    "from sklearn.decomposition import PCA\n",
    "from sklearn.preprocessing import MinMaxScaler\n",
    "\n",
    "import tensorflow as tf\n",
    "from tensorflow.keras.models import Sequential\n",
    "from tensorflow.keras.layers import GRU, Dense\n",
    "from tensorflow.keras.losses import BinaryCrossentropy, MeanSquaredError, MeanAbsoluteError\n",
    "from tensorflow.keras.optimizers import Adam\n",
    "from tensorflow.keras.metrics import AUC\n",
    "\n",
    "import matplotlib.pyplot as plt\n",
    "import seaborn as sns"
   ]
  },
  {
   "cell_type": "code",
   "execution_count": null,
   "id": "3c3d0a45-134f-46da-9980-d9c18f02b17c",
   "metadata": {},
   "outputs": [],
   "source": [
    "gpu_devices = tf.config.experimental.list_physical_devices('GPU')\n",
    "if gpu_devices:\n",
    "    print('Using GPU')\n",
    "    tf.config.experimental.set_memory_growth(gpu_devices[0], True)\n",
    "else:\n",
    "    print('Using CPU')"
   ]
  },
  {
   "cell_type": "code",
   "execution_count": null,
   "id": "d51953ca-e0a5-468a-b724-53fd9f2b853c",
   "metadata": {},
   "outputs": [],
   "source": [
    "sns.set_style('white')"
   ]
  },
  {
   "cell_type": "code",
   "execution_count": null,
   "id": "4fe8cf42-567e-4a27-9fd8-c561c3951dcf",
   "metadata": {},
   "outputs": [],
   "source": [
    "# seq_len = 24\n",
    "# n_seq = 6\n",
    "# experiment = 0"
   ]
  },
  {
   "cell_type": "code",
   "execution_count": null,
   "id": "76e1eb46-fb66-4a73-81ff-7da674f8286f",
   "metadata": {},
   "outputs": [],
   "source": [
    "df = pd.read_csv('data/smart_meters_london_2013.csv')\n",
    "#df.loc[1:2, 1:2]\n",
    "df = df.iloc[:,1:]\n",
    "\n",
    "\n",
    "scaler = MinMaxScaler()\n",
    "scaled_data = scaler.fit_transform(df).astype(np.float32)\n",
    "\n",
    "data = []\n",
    "for i in range(len(df) - seq_len):\n",
    "    data.append(scaled_data[i:i + seq_len])\n",
    "\n",
    "real_data = data"
   ]
  },
  {
   "cell_type": "code",
   "execution_count": null,
   "id": "d3bd39ec-e3b5-4d80-bdb0-4ba4b427ee7a",
   "metadata": {},
   "outputs": [],
   "source": [
    "n = len(real_data)"
   ]
  },
  {
   "cell_type": "code",
   "execution_count": null,
   "id": "8f0f5aed-e90b-465f-97e6-00108b728795",
   "metadata": {},
   "outputs": [],
   "source": [
    "np.asarray(real_data).shape # (8736, 24, 4125)"
   ]
  },
  {
   "cell_type": "code",
   "execution_count": null,
   "id": "5e30c747-3a37-4b25-ae2e-c4dd86ed0482",
   "metadata": {},
   "outputs": [],
   "source": [
    "#path = Path('4.1v2_time_gan')\n",
    "synthetic_data = np.load('4.1v2_time_gan/experiment_00/generated_data4.1.npy')\n",
    "synthetic_data.shape\n",
    "# (8704, 24, 4125)"
   ]
  },
  {
   "cell_type": "code",
   "execution_count": null,
   "id": "e51ae2d5-a46c-4569-8dd2-c9707b13c5d3",
   "metadata": {},
   "outputs": [],
   "source": [
    "real_data = real_data[:synthetic_data.shape[0]]"
   ]
  },
  {
   "cell_type": "markdown",
   "id": "c3add9a4-c8cd-4fbe-b68f-5e77f9549f66",
   "metadata": {},
   "source": [
    "### Prepare sample"
   ]
  },
  {
   "cell_type": "code",
   "execution_count": null,
   "id": "34790af1-edfb-4600-820c-83215907bd37",
   "metadata": {},
   "outputs": [],
   "source": [
    "sample_size = 250\n",
    "idx = np.random.permutation(len(real_data))[:sample_size]"
   ]
  },
  {
   "cell_type": "code",
   "execution_count": null,
   "id": "6345fb3e-93ca-43bb-9787-7b163b03f6c3",
   "metadata": {},
   "outputs": [],
   "source": [
    "real_sample = np.asarray(real_data)[idx]\n",
    "synthetic_sample = np.asarray(synthetic_data)[idx]"
   ]
  },
  {
   "cell_type": "code",
   "execution_count": null,
   "id": "063dbfd1-ec95-4fcb-ab1a-9466e67d86c0",
   "metadata": {},
   "outputs": [],
   "source": [
    "real_sample_2d = real_sample.reshape(-1, seq_len)\n",
    "synthetic_sample_2d = synthetic_sample.reshape(-1, seq_len)"
   ]
  },
  {
   "cell_type": "code",
   "execution_count": null,
   "id": "971915a2-c8ec-4150-976c-7fb53c2ee0d7",
   "metadata": {},
   "outputs": [],
   "source": [
    "real_sample_2d.shape, synthetic_sample_2d.shape"
   ]
  },
  {
   "cell_type": "markdown",
   "id": "20da3dab-1e78-4c6c-8916-aeb4919a366a",
   "metadata": {},
   "source": [
    "# Visualization in 2D"
   ]
  },
  {
   "cell_type": "code",
   "execution_count": null,
   "id": "670620d1-24f1-4432-8fac-a8b55b91cbc7",
   "metadata": {},
   "outputs": [],
   "source": [
    "pca = PCA(n_components=2)\n",
    "pca.fit(real_sample_2d)\n",
    "pca_real = (pd.DataFrame(pca.transform(real_sample_2d))\n",
    "            .assign(Data='Real'))\n",
    "pca_synthetic = (pd.DataFrame(pca.transform(synthetic_sample_2d))\n",
    "                 .assign(Data='Synthetic'))\n",
    "pca_result = pd.concat([pca_real, pca_synthetic]).rename(\n",
    "    columns={0: '1st Component', 1: '2nd Component'})"
   ]
  },
  {
   "cell_type": "code",
   "execution_count": null,
   "id": "52d92e8e-4e67-471a-bd9a-a2346b528c61",
   "metadata": {},
   "outputs": [],
   "source": [
    "tsne_data = np.concatenate((real_sample_2d,\n",
    "                            synthetic_sample_2d), axis=0)\n",
    "\n",
    "tsne = TSNE(n_components=2,\n",
    "            verbose=1,\n",
    "            perplexity=40)\n",
    "tsne_result = tsne.fit_transform(tsne_data)"
   ]
  },
  {
   "cell_type": "code",
   "execution_count": null,
   "id": "74cc4650-53c8-49b5-8aac-819ff7c9828f",
   "metadata": {},
   "outputs": [],
   "source": [
    "tsne_result = pd.DataFrame(tsne_result, columns=['X', 'Y']).assign(Data='Real')\n",
    "tsne_result.loc[sample_size*6:, 'Data'] = 'Synthetic'"
   ]
  },
  {
   "cell_type": "markdown",
   "id": "0c23e7a3-cf45-4960-af4f-ce9ef1f86788",
   "metadata": {},
   "source": [
    "# Plot Result"
   ]
  },
  {
   "cell_type": "code",
   "execution_count": null,
   "id": "1965508b-0b77-4285-8a38-538464dd19c7",
   "metadata": {},
   "outputs": [],
   "source": [
    "\n",
    "fig, axes = plt.subplots(ncols=1, figsize=(14, 5))\n",
    "\n",
    "sns.scatterplot(x='1st Component', y='2nd Component', data=pca_result,\n",
    "                hue='Data', style='Data', ax=axes[0])\n",
    "sns.despine()\n",
    "axes[0].set_title('PCA Result')\n",
    "\n",
    "\n",
    "sns.scatterplot(x='X', y='Y',\n",
    "                data=tsne_result,\n",
    "                hue='Data', \n",
    "                style='Data', \n",
    "                ax=axes[1])\n",
    "sns.despine()\n",
    "for i in [0, 1]:\n",
    "    axes[i].set_xticks([])\n",
    "    axes[i].set_yticks([])\n",
    "\n",
    "axes[1].set_title('t-SNE Result')\n",
    "fig.suptitle('Assessing Diversity: Qualitative Comparison of Real and Synthetic Data Distributions', \n",
    "             fontsize=14)\n",
    "fig.tight_layout()\n",
    "fig.subplots_adjust(top=.88);"
   ]
  },
  {
   "cell_type": "code",
   "execution_count": null,
   "id": "ccb2eea8-9d52-47be-b18c-e35eed634344",
   "metadata": {},
   "outputs": [],
   "source": [
    "fig, axes = plt.subplots(ncols=2, figsize=(14, 5))\n",
    "\n",
    "sns.scatterplot(x='1st Component', y='2nd Component', data=pca_result,\n",
    "                hue='Data', style='Data', ax=axes[0])\n",
    "sns.despine()\n",
    "axes[0].set_title('PCA Result')"
   ]
  },
  {
   "cell_type": "code",
   "execution_count": null,
   "id": "8416c021-7678-4a26-aa1d-ed592fdf753a",
   "metadata": {},
   "outputs": [],
   "source": []
  },
  {
   "cell_type": "code",
   "execution_count": null,
   "id": "c6488db5-549b-42b5-829d-c78d823fe721",
   "metadata": {},
   "outputs": [],
   "source": []
  },
  {
   "cell_type": "code",
   "execution_count": null,
   "id": "93d6d774-627f-4e73-92c8-2ae7285b8583",
   "metadata": {},
   "outputs": [],
   "source": []
  },
  {
   "cell_type": "code",
   "execution_count": null,
   "id": "618f9a71-444f-41d2-a880-01d99f803462",
   "metadata": {},
   "outputs": [],
   "source": []
  },
  {
   "cell_type": "code",
   "execution_count": null,
   "id": "6cb6f8ab-4f81-40a8-8541-3c7a1fa0e6f9",
   "metadata": {},
   "outputs": [],
   "source": []
  }
 ],
 "metadata": {
  "kernelspec": {
   "display_name": "Python 3 (ipykernel)",
   "language": "python",
   "name": "python3"
  },
  "language_info": {
   "codemirror_mode": {
    "name": "ipython",
    "version": 3
   },
   "file_extension": ".py",
   "mimetype": "text/x-python",
   "name": "python",
   "nbconvert_exporter": "python",
   "pygments_lexer": "ipython3",
   "version": "3.10.14"
  }
 },
 "nbformat": 4,
 "nbformat_minor": 5
}
